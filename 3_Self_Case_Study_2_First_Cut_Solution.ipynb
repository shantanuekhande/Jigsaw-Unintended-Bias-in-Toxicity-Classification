{
 "cells": [
  {
   "cell_type": "code",
   "execution_count": 4,
   "metadata": {},
   "outputs": [],
   "source": [
    "import numpy as np\n",
    "import pandas as pd"
   ]
  },
  {
   "cell_type": "code",
   "execution_count": 5,
   "metadata": {},
   "outputs": [],
   "source": [
    "%matplotlib inline\n",
    "import warnings\n",
    "warnings.filterwarnings(\"ignore\")\n",
    "import pandas as pd\n",
    "import numpy as np\n",
    "import nltk\n",
    "import matplotlib.pyplot as plt\n",
    "import seaborn as sns\n",
    "from sklearn.naive_bayes import MultinomialNB\n",
    "from sklearn.feature_extraction.text import TfidfVectorizer\n",
    "from sklearn.feature_extraction.text import CountVectorizer\n",
    "from sklearn.preprocessing import MinMaxScaler # for normalizing numeric feature\n",
    "from sklearn.model_selection import GridSearchCV, StratifiedKFold\n",
    "from sklearn.metrics import confusion_matrix\n",
    "from sklearn import metrics\n",
    "from sklearn.metrics import roc_curve, auc\n",
    "# import re\n",
    "# import pickle\n",
    "from tqdm import tqdm\n",
    "# import os\n",
    "from collections import Counter\n",
    "from sklearn.metrics import roc_auc_score"
   ]
  },
  {
   "cell_type": "markdown",
   "metadata": {},
   "source": [
    "# 1. Naive Bayes model with BOW"
   ]
  },
  {
   "cell_type": "markdown",
   "metadata": {},
   "source": [
    "> Handling Nan Values and Converting_into_boolean "
   ]
  },
  {
   "cell_type": "code",
   "execution_count": 6,
   "metadata": {},
   "outputs": [],
   "source": [
    "def Converting_into_boolean(new_data):\n",
    "    new_data['asian'] = new_data['asian'].fillna(0)\n",
    "    new_data['asian'] = new_data['asian'].apply(lambda x: 0 if x < 0.5 else 1)\n",
    "\n",
    "    new_data['atheist'] = new_data['atheist'].fillna(0)\n",
    "    new_data['atheist'] = new_data['atheist'].apply(lambda x: 0 if x < 0.5 else 1)\n",
    "\n",
    "    new_data['bisexual'] = new_data['bisexual'].fillna(0)\n",
    "    new_data['bisexual'] = new_data['bisexual'].apply(lambda x: 0 if x < 0.5 else 1)\n",
    "\n",
    "    new_data['black'] = new_data['black'].fillna(0)\n",
    "    new_data['black'] = new_data['black'].apply(lambda x: 0 if x < 0.5 else 1)\n",
    "\n",
    "    new_data['buddhist'] = new_data['buddhist'].fillna(0)\n",
    "    new_data['buddhist'] = new_data['buddhist'].apply(lambda x: 0 if x < 0.5 else 1)\n",
    "\n",
    "    new_data['christian'] = new_data['christian'].fillna(0)\n",
    "    new_data['christian'] = new_data['christian'].apply(lambda x: 0 if x < 0.5 else 1)\n",
    "\n",
    "    new_data['female'] = new_data['female'].fillna(0)\n",
    "    new_data['female'] = new_data['female'].apply(lambda x: 0 if x < 0.5 else 1)\n",
    "\n",
    "    new_data['heterosexual'] = new_data['heterosexual'].fillna(0)\n",
    "    new_data['heterosexual'] = new_data['heterosexual'].apply(lambda x: 0 if x < 0.5 else 1)\n",
    "\n",
    "    new_data['hindu'] = new_data['hindu'].fillna(0)\n",
    "    new_data['hindu'] = new_data['hindu'].apply(lambda x: 0 if x < 0.5 else 1)\n",
    "\n",
    "    new_data['homosexual_gay_or_lesbian'] = new_data['homosexual_gay_or_lesbian'].fillna(0)\n",
    "    new_data['homosexual_gay_or_lesbian'] = new_data['homosexual_gay_or_lesbian'].apply(lambda x: 0 if x < 0.5 else 1)\n",
    "\n",
    "    new_data['intellectual_or_learning_disability'] = new_data['intellectual_or_learning_disability'].fillna(0)\n",
    "    new_data['intellectual_or_learning_disability'] = new_data['intellectual_or_learning_disability'].apply(lambda x: 0 if x < 0.5 else 1)\n",
    "\n",
    "    new_data['jewish'] = new_data['jewish'].fillna(0)\n",
    "    new_data['jewish'] = new_data['jewish'].apply(lambda x: 0 if x < 0.5 else 1)\n",
    "\n",
    "    new_data['latino'] = new_data['latino'].fillna(0)\n",
    "    new_data['latino'] = new_data['latino'].apply(lambda x: 0 if x < 0.5 else 1)\n",
    "\n",
    "    new_data['male'] = new_data['male'].fillna(0)\n",
    "    new_data['male'] = new_data['male'].apply(lambda x: 0 if x < 0.5 else 1)\n",
    "\n",
    "    new_data['muslim'] = new_data['muslim'].fillna(0)\n",
    "    new_data['muslim'] = new_data['muslim'].apply(lambda x: 0 if x < 0.5 else 1)\n",
    "\n",
    "    new_data['other_disability'] = new_data['other_disability'].fillna(0)\n",
    "    new_data['other_disability'] = new_data['other_disability'].apply(lambda x: 0 if x < 0.5 else 1)\n",
    "\n",
    "    new_data['other_gender'] = new_data['other_gender'].fillna(0)\n",
    "    new_data['other_gender'] = new_data['other_gender'].apply(lambda x: 0 if x < 0.5 else 1)\n",
    "\n",
    "    new_data['other_race_or_ethnicity'] = new_data['other_race_or_ethnicity'].fillna(0)\n",
    "    new_data['other_race_or_ethnicity'] = new_data['other_race_or_ethnicity'].apply(lambda x: 0 if x < 0.5 else 1)\n",
    "\n",
    "    new_data['other_religion'] = new_data['other_religion'].fillna(0)\n",
    "    new_data['other_religion'] = new_data['other_religion'].apply(lambda x: 0 if x < 0.5 else 1)\n",
    "\n",
    "    new_data['other_sexual_orientation'] = new_data['other_sexual_orientation'].fillna(0)\n",
    "    new_data['other_sexual_orientation'] = new_data['other_sexual_orientation'].apply(lambda x: 0 if x < 0.5 else 1)\n",
    "\n",
    "    new_data['physical_disability'] = new_data['physical_disability'].fillna(0)\n",
    "    new_data['physical_disability'] = new_data['physical_disability'].apply(lambda x: 0 if x < 0.5 else 1)\n",
    "\n",
    "    new_data['psychiatric_or_mental_illness'] = new_data['psychiatric_or_mental_illness'].fillna(0)\n",
    "    new_data['psychiatric_or_mental_illness'] = new_data['psychiatric_or_mental_illness'].apply(lambda x: 0 if x < 0.5 else 1)\n",
    "\n",
    "    new_data['transgender'] = new_data['transgender'].fillna(0)\n",
    "    new_data['transgender'] = new_data['transgender'].apply(lambda x: 0 if x < 0.5 else 1)\n",
    "\n",
    "    new_data['white'] = new_data['white'].fillna(0)\n",
    "    new_data['white'] = new_data['white'].apply(lambda x: 0 if x < 0.5 else 1)\n",
    "    \n",
    "    return new_data"
   ]
  },
  {
   "cell_type": "markdown",
   "metadata": {},
   "source": [
    "> ## Hyperparameter Tunning."
   ]
  },
  {
   "cell_type": "markdown",
   "metadata": {},
   "source": [
    "### Loding Preprocessed data  for ML models"
   ]
  },
  {
   "cell_type": "code",
   "execution_count": 3,
   "metadata": {},
   "outputs": [],
   "source": [
    "import pickle\n",
    "# Open the file in binary mode\n",
    "with open('data_BOW.pkl', 'rb') as file: \n",
    "    # Call load method to deserialze\n",
    "    x_train_BOW , x_cv_BOW , x_test_BOW, y_train, y_cv, y_test,Test_Final_pre_text_data_ML_BOW = pickle.load(file)"
   ]
  },
  {
   "cell_type": "markdown",
   "metadata": {},
   "source": [
    "### Loding data which contain all Subgroup identity for ML models"
   ]
  },
  {
   "cell_type": "code",
   "execution_count": 4,
   "metadata": {},
   "outputs": [],
   "source": [
    "import pickle\n",
    "  \n",
    "# Open the file in binary mode\n",
    "with open('data_train_test_cv_csv_all_columns.pkl', 'rb') as file:\n",
    "      \n",
    "    # Call load method to deserialze\n",
    "    x_train, x_cv , x_test, y_train, y_cv, y_test = pickle.load(file)"
   ]
  },
  {
   "cell_type": "markdown",
   "metadata": {},
   "source": [
    "> Function which calculate bias AUC"
   ]
  },
  {
   "cell_type": "code",
   "execution_count": 6,
   "metadata": {},
   "outputs": [],
   "source": [
    "SUBGROUP_AUC = 'subgroup_auc'\n",
    "BPSN_AUC = 'bpsn_auc'  # stands for background positive, subgroup negative\n",
    "BNSP_AUC = 'bnsp_auc'  # stands for background negative, subgroup positive\n",
    "\n",
    "def compute_auc(y_true, y_pred):\n",
    "    try:\n",
    "        return metrics.roc_auc_score(y_true, y_pred)\n",
    "    except ValueError:\n",
    "        return np.nan\n",
    "\n",
    "def compute_subgroup_auc(df, subgroup, label, model_name):\n",
    "    subgroup_examples = df[df[subgroup]==1]\n",
    "    return compute_auc(subgroup_examples[label], subgroup_examples[model_name])\n",
    "\n",
    "def compute_bpsn_auc(df, subgroup, label, model_name):\n",
    "    \"\"\"Computes the AUC of the within-subgroup negative examples and the background positive examples.\"\"\"\n",
    "    subgroup_negative_examples = df[(df[subgroup]==1) & (df[label]=='non-toxic')]\n",
    "    non_subgroup_positive_examples = df[(df[subgroup]==0) & (df[label]=='toxic')]\n",
    "    examples = subgroup_negative_examples.append(non_subgroup_positive_examples)\n",
    "    return compute_auc(examples[label], examples[model_name])\n",
    "\n",
    "def compute_bnsp_auc(df, subgroup, label, model_name):\n",
    "    \"\"\"Computes the AUC of the within-subgroup positive examples and the background negative examples.\"\"\"\n",
    "    subgroup_positive_examples = df[(df[subgroup]==1)&(df[label]=='toxic')]\n",
    "    non_subgroup_negative_examples = df[(df[subgroup]==0) & (df[label]=='non-toxic')]\n",
    "    examples = subgroup_positive_examples.append(non_subgroup_negative_examples)\n",
    "    return compute_auc(examples[label], examples[model_name])\n",
    "\n",
    "def compute_bias_metrics_for_model(dataset,\n",
    "                                   subgroups,\n",
    "                                   model,\n",
    "                                   label_col,\n",
    "                                   include_asegs=False):\n",
    "    \"\"\"Computes per-subgroup metrics for all subgroups and one model.\"\"\"\n",
    "    records = []\n",
    "    for subgroup in subgroups:\n",
    "        record = {\n",
    "            'subgroup': subgroup,\n",
    "            'subgroup_size': dataset[subgroup].sum()\n",
    "        }\n",
    "        record[SUBGROUP_AUC] = compute_subgroup_auc(dataset, subgroup, label_col, model)\n",
    "        record[BPSN_AUC] = compute_bpsn_auc(dataset, subgroup, label_col, model)\n",
    "        record[BNSP_AUC] = compute_bnsp_auc(dataset, subgroup, label_col, model)\n",
    "        records.append(record)\n",
    "    return pd.DataFrame(records).sort_values('subgroup_auc', ascending=True)\n",
    "\n",
    "# identity_columns = subgroup\n",
    "# MODEL_NAME = 'naive_proba'\n",
    "# TOXICITY_COLUMN  = 'class'\n",
    "# bias_metrics_df = compute_bias_metrics_for_model(x_cv_1, identity_columns, MODEL_NAME, TOXICITY_COLUMN)\n",
    "# bias_metrics_df\n"
   ]
  },
  {
   "cell_type": "markdown",
   "metadata": {},
   "source": [
    "> Function which caluclate final_metric (weighted AUC)"
   ]
  },
  {
   "cell_type": "code",
   "execution_count": 12,
   "metadata": {},
   "outputs": [],
   "source": [
    "TOXICITY_COLUMN = 'class'\n",
    "TEXT_COLUMN = 'comment_text'\n",
    "MODEL_NAME = 'naive_proba'\n",
    "def calculate_overall_auc(df, model_name):\n",
    "    true_labels = df[TOXICITY_COLUMN]\n",
    "    predicted_labels = df[model_name]\n",
    "    return metrics.roc_auc_score(true_labels, predicted_labels)\n",
    "\n",
    "def power_mean(series, p):\n",
    "    total = sum(np.power(series, p))\n",
    "    return np.power(total / len(series), 1 / p)\n",
    "\n",
    "def get_final_metric(bias_df, overall_auc, POWER=-5, OVERALL_MODEL_WEIGHT=0.25):\n",
    "    bias_score = np.average([\n",
    "        power_mean(bias_df[SUBGROUP_AUC], POWER),\n",
    "        power_mean(bias_df[BPSN_AUC], POWER),\n",
    "        power_mean(bias_df[BNSP_AUC], POWER)\n",
    "    ])\n",
    "    return (OVERALL_MODEL_WEIGHT * overall_auc) + ((1 - OVERALL_MODEL_WEIGHT) * bias_score)\n",
    "    \n",
    "# get_final_metric(bias_metrics_df, calculate_overall_auc(x_cv_1, MODEL_NAME))\n"
   ]
  },
  {
   "cell_type": "markdown",
   "metadata": {},
   "source": [
    "> function only return that identity/subgroups which occurs"
   ]
  },
  {
   "cell_type": "code",
   "execution_count": 13,
   "metadata": {},
   "outputs": [],
   "source": [
    "# this function only return that identity/subgroups which occurs\n",
    "def parameters(x_cv):\n",
    "    x_cv = x_cv[['asian', 'atheist', 'bisexual',\n",
    "       'black', 'buddhist', 'christian', 'female', 'heterosexual', 'hindu',\n",
    "       'homosexual_gay_or_lesbian', 'intellectual_or_learning_disability',\n",
    "       'jewish', 'latino', 'male', 'muslim', 'other_disability',\n",
    "       'other_gender', 'other_race_or_ethnicity', 'other_religion',\n",
    "       'other_sexual_orientation', 'physical_disability',\n",
    "       'psychiatric_or_mental_illness', 'transgender', 'white','class']]\n",
    "    list_ = x_cv.columns[:24]  # droping class colummn\n",
    "    subgroup = []\n",
    "    for i in list_:\n",
    "        if x_cv[x_cv[i]==1][i].count() >500:\n",
    "#             print(i,':',x_cv[x_cv[i] ==1][i].count())\n",
    "            subgroup.append(i)\n",
    "    return subgroup"
   ]
  },
  {
   "cell_type": "markdown",
   "metadata": {},
   "source": [
    "> Function to calculate Confusion matrix"
   ]
  },
  {
   "cell_type": "code",
   "execution_count": 138,
   "metadata": {},
   "outputs": [],
   "source": [
    "## making confusion matrix\n",
    "# https://medium.com/@dtuk81/confusion-matrix-visualization-fc31e3f30fea\n",
    "from sklearn.metrics import confusion_matrix\n",
    "def confusion__matrix(y_test,Y_predicted):\n",
    "    cm=confusion_matrix(y_test,Y_predicted)\n",
    "    print(cm)\n",
    "    ax= plt.subplot();\n",
    "    cm_= cm.reshape(4) # count \n",
    "    percentage = ((cm_/cm_.sum()).round(4))*100 # in percentage\n",
    "    group_names_ = ['True Neg ','False Pos','False Neg','True Pos']\n",
    "    group_names = []\n",
    "    for i in range(4):\n",
    "        str_ = group_names_[i] + '\\n'+ str(cm_[i]) + '\\n'+ str(percentage[i])+\"%\"\n",
    "        group_names.append(str_)\n",
    "#     group_names = ['True Neg ','False Pos','False Neg','True Pos']\n",
    "    group_names = np.array(group_names).reshape(2,2)\n",
    "    sns.heatmap(cm, annot=group_names,fmt=\"\",cmap='Blues')\n",
    "    ax.set_xlabel('Predicted labels');\n",
    "    ax.set_ylabel('True labels');\n",
    "    ax.set_ylim(2.0, 0)\n",
    "    ax.set_title('Confusion Matrix');\n",
    "    ax.xaxis.set_ticklabels(['0','1']);\n",
    "    ax.yaxis.set_ticklabels(['0','1']);"
   ]
  },
  {
   "cell_type": "markdown",
   "metadata": {},
   "source": [
    "> Function to plot AUC_ROC curve "
   ]
  },
  {
   "cell_type": "code",
   "execution_count": null,
   "metadata": {},
   "outputs": [],
   "source": [
    "def Plot_AUC_ROC_curve(y_test,y_train,x_test_BOW_predicted,x_train_BOW_predicted):\n",
    "    y_test_= [0 if i=='non-toxic' else 1 for i in y_test ]\n",
    "    y_train_= [0 if i=='non-toxic' else 1 for i in y_train ]\n",
    "    # x_test_BOW_predicted_class_= [0 if i=='non-toxic' else 1 for i in x_test_BOW_predicted_class ]\n",
    "\n",
    "    fpr_test, tpr_test, threshold_test = roc_curve(y_test_, x_test_BOW_predicted,pos_label=1)\n",
    "    fpr_train, tpr_train, threshold_train = roc_curve(y_train_, x_train_BOW_predicted,pos_label=1)\n",
    "\n",
    "    \n",
    "    roc_auc_test = roc_auc_score(y_test,x_test_BOW_predicted)\n",
    "    roc_auc_train = roc_auc_score(y_train,x_train_BOW_predicted)\n",
    "\n",
    "    plt.title('Receiver Operating Characteristic')\n",
    "\n",
    "    plt.plot(fpr_test, tpr_test, 'r', label = 'Test AUC = %0.2f' % roc_auc_test)\n",
    "    plt.plot(fpr_train, tpr_train, 'b', label = 'Train AUC = %0.2f' % roc_auc_train)\n",
    "\n",
    "    plt.legend(loc = 'lower right')\n",
    "    plt.plot([0, 1], [0, 1],'g--')\n",
    "    plt.xlim([0, 1])\n",
    "    plt.ylim([0, 1])\n",
    "    plt.ylabel('True Positive Rate')\n",
    "    plt.xlabel('False Positive Rate')\n",
    "    plt.show()\n",
    "    \n",
    "    ## Calculating best threshold  # https://stackoverflow.com/questions/28719067/roc-curve-and-cut-off-point-python\n",
    "    best_threshold_test= threshold_test[np.argmax(tpr_test - fpr_test)]\n",
    "    \n",
    "    return roc_auc_test,roc_auc_train,best_threshold_test ## simple AUC score"
   ]
  },
  {
   "cell_type": "markdown",
   "metadata": {},
   "source": [
    "> Function which perform hyperparameter tunning"
   ]
  },
  {
   "cell_type": "code",
   "execution_count": 16,
   "metadata": {},
   "outputs": [],
   "source": [
    "from tqdm import tqdm"
   ]
  },
  {
   "cell_type": "code",
   "execution_count": 21,
   "metadata": {},
   "outputs": [],
   "source": [
    "def hyper_parametertunning(x_train_BOW,x_cv_BOW,x_cv,x_train,y_train,y_cv):\n",
    "    classifier = MultinomialNB() #classifier   \n",
    "    alphas=[0.00001,0.0001,0.001,0.01,0.1,1,10,100,300,500]\n",
    "    train_AUC = []\n",
    "    cv_AUC = []\n",
    "    for i in tqdm(alphas):\n",
    "        classifier = MultinomialNB(alpha=i)\n",
    "        classifier.fit(x_train_BOW,y_train)\n",
    "        \n",
    "        ## Calculating AUC for x_CV\n",
    "        x_cv_BOW_predicted = classifier.predict_proba(x_cv_BOW)[:,1]\n",
    "        x_cv['naive_proba'] = x_cv_BOW_predicted\n",
    "        subgroup = parameters(x_cv)\n",
    "        identity_columns = subgroup\n",
    "        MODEL_NAME = 'naive_proba'\n",
    "        TOXICITY_COLUMN  = 'class'\n",
    "        bias_metrics_df = compute_bias_metrics_for_model(x_cv, identity_columns, MODEL_NAME, TOXICITY_COLUMN)\n",
    "        AUC_CV = get_final_metric(bias_metrics_df, calculate_overall_auc(x_cv, MODEL_NAME))\n",
    "        cv_AUC.append(AUC_CV)\n",
    "        \n",
    "        \n",
    "        ## Calculating AUC for x_train\n",
    "        x_train_BOW_predicted = classifier.predict_proba(x_train_BOW)[:,1]\n",
    "        x_train['naive_proba'] = x_train_BOW_predicted\n",
    "        subgroup = parameters(x_train)\n",
    "        identity_columns = subgroup\n",
    "        MODEL_NAME = 'naive_proba'\n",
    "        TOXICITY_COLUMN  = 'class'\n",
    "        bias_metrics_df = compute_bias_metrics_for_model(x_train, identity_columns, MODEL_NAME, TOXICITY_COLUMN)\n",
    "        AUC_train = get_final_metric(bias_metrics_df, calculate_overall_auc(x_train, MODEL_NAME))\n",
    "        train_AUC.append(AUC_train)\n",
    "        \n",
    "        \n",
    "        \n",
    "        \n",
    "    return train_AUC, cv_AUC ,alphas"
   ]
  },
  {
   "cell_type": "markdown",
   "metadata": {},
   "source": [
    "> preparing data  Handling Nan Values and Converting_into_boolean "
   ]
  },
  {
   "cell_type": "code",
   "execution_count": 22,
   "metadata": {},
   "outputs": [],
   "source": [
    "x_train = Converting_into_boolean(x_train)\n",
    "x_cv = Converting_into_boolean(x_cv)\n",
    "x_test = Converting_into_boolean(x_test)"
   ]
  },
  {
   "cell_type": "markdown",
   "metadata": {},
   "source": [
    "> Calling hyper_parametertunning function"
   ]
  },
  {
   "cell_type": "code",
   "execution_count": 24,
   "metadata": {},
   "outputs": [],
   "source": [
    "import pandas as pd"
   ]
  },
  {
   "cell_type": "code",
   "execution_count": 28,
   "metadata": {},
   "outputs": [
    {
     "name": "stdout",
     "output_type": "stream",
     "text": [
      "      alphas  train_AUC    cv_AUC\n",
      "0    0.00001   0.805831  0.796282\n",
      "1    0.00010   0.805830  0.796282\n",
      "2    0.00100   0.805829  0.796281\n",
      "3    0.01000   0.805825  0.796281\n",
      "4    0.10000   0.805819  0.796298\n",
      "5    1.00000   0.805819  0.796462\n",
      "6   10.00000   0.805525  0.796740\n",
      "7  100.00000   0.779846  0.773025\n",
      "8  300.00000   0.686299  0.682065\n",
      "9  500.00000   0.641093  0.640924\n"
     ]
    },
    {
     "data": {
      "image/png": "[encoded data removed]",
      "text/plain": [
       "<Figure size 432x288 with 1 Axes>"
      ]
     },
     "metadata": {},
     "output_type": "display_data"
    }
   ],
   "source": [
    "train_AUC, cv_AUC ,alphas=hyper_parametertunning(x_train_BOW,x_cv_BOW,x_cv,x_train,y_train,y_cv)\n",
    "data_frame = pd.DataFrame({'alphas':alphas,'train_AUC':train_AUC,'cv_AUC':cv_AUC})\n",
    "print(data_frame)\n",
    "plt.plot(alphas,cv_AUC, label='cv cruve')\n",
    "plt.plot(alphas,train_AUC ,label='train cruve')\n",
    "plt.xlabel('Hyper-parameter')\n",
    "plt.ylabel('weighted roc_auc_score')\n",
    "plt.title('Hyper-parameter VS roc_auc_score')\n",
    "plt.legend()\n",
    "plt.show()"
   ]
  },
  {
   "cell_type": "markdown",
   "metadata": {},
   "source": [
    "> Applying best hyperparameter to Naive bayes"
   ]
  },
  {
   "cell_type": "code",
   "execution_count": 35,
   "metadata": {},
   "outputs": [],
   "source": [
    "## Test data\n",
    "classifier = MultinomialNB(alpha=0.00001)\n",
    "classifier.fit(x_train_BOW,y_train)\n",
    "x_test_BOW_predicted = classifier.predict_proba(x_test_BOW)[:,1]\n",
    "x_test_BOW_predicted_class = classifier.predict(x_test_BOW)\n",
    "x_train_BOW_predicted = classifier.predict_proba(x_train_BOW)[:,1]\n",
    "x_test['naive_proba'] = x_test_BOW_predicted\n",
    "subgroup = parameters(x_test)\n",
    "identity_columns = subgroup\n",
    "MODEL_NAME = 'naive_proba'\n",
    "TOXICITY_COLUMN  = 'class'\n",
    "bias_metrics_df = compute_bias_metrics_for_model(x_test, identity_columns, MODEL_NAME, TOXICITY_COLUMN)\n",
    "AUC_test = get_final_metric(bias_metrics_df, calculate_overall_auc(x_test, MODEL_NAME))"
   ]
  },
  {
   "cell_type": "code",
   "execution_count": 143,
   "metadata": {},
   "outputs": [
    {
     "data": {
      "image/png": "[encoded data removed]",
      "text/plain": [
       "<Figure size 432x288 with 1 Axes>"
      ]
     },
     "metadata": {},
     "output_type": "display_data"
    }
   ],
   "source": [
    "roc_auc_test,roc_auc_train,best_threshold_test,best_threshold_train = Plot_AUC_ROC_curve(y_test,y_train,x_test_BOW_predicted,x_train_BOW_predicted)"
   ]
  },
  {
   "cell_type": "code",
   "execution_count": 145,
   "metadata": {},
   "outputs": [
    {
     "name": "stdout",
     "output_type": "stream",
     "text": [
      "roc_auc_test :  0.8637008288715088\n",
      "roc_auc_train :  0.8670686139588653\n",
      "best_threshold_test :  0.17719085937191428\n",
      "best_threshold_train :  0.1738937373934352\n"
     ]
    }
   ],
   "source": [
    "print('roc_auc_test : ',roc_auc_test)\n",
    "print('roc_auc_train : ',roc_auc_train)\n",
    "print('best_threshold_test : ',best_threshold_test)\n",
    "print('best_threshold_train : ',best_threshold_train)"
   ]
  },
  {
   "cell_type": "markdown",
   "metadata": {},
   "source": [
    "> As we can see the weighted AUC matric mitigate the effect of bias word.\n",
    "* Simple AUC = 0.8637\n",
    "* weighted  AUC = 0.7979 \n",
    "* the best threshold we got approx is 0.17 "
   ]
  },
  {
   "cell_type": "markdown",
   "metadata": {},
   "source": [
    "> Confusion Matrix"
   ]
  },
  {
   "cell_type": "code",
   "execution_count": 146,
   "metadata": {},
   "outputs": [],
   "source": [
    "## making confusion matrix\n",
    "# https://medium.com/@dtuk81/confusion-matrix-visualization-fc31e3f30fea\n",
    "from sklearn.metrics import confusion_matrix\n",
    "def confusion__matrix(y_test,Y_predicted):\n",
    "    cm=confusion_matrix(y_test,Y_predicted)\n",
    "    print(cm)\n",
    "    ax= plt.subplot();\n",
    "    cm_= cm.reshape(4) # count \n",
    "    percentage = ((cm_/cm_.sum()).round(4))*100 # in percentage\n",
    "    group_names_ = ['True Neg ','False Pos','False Neg','True Pos']\n",
    "    group_names = []\n",
    "    for i in range(4):\n",
    "        str_ = group_names_[i] + '\\n'+ str(cm_[i]) + '\\n'+ str(percentage[i])+\"%\"\n",
    "        group_names.append(str_)\n",
    "#     group_names = ['True Neg ','False Pos','False Neg','True Pos']\n",
    "    group_names = np.array(group_names).reshape(2,2)\n",
    "    sns.heatmap(cm, annot=group_names,fmt=\"\",cmap='Blues')\n",
    "    ax.set_xlabel('Predicted labels');\n",
    "    ax.set_ylabel('True labels');\n",
    "    ax.set_ylim(2.0, 0)\n",
    "    ax.set_title('Confusion Matrix');\n",
    "    ax.xaxis.set_ticklabels(['0','1']);\n",
    "    ax.yaxis.set_ticklabels(['0','1']);"
   ]
  },
  {
   "cell_type": "code",
   "execution_count": 147,
   "metadata": {
    "scrolled": false
   },
   "outputs": [
    {
     "name": "stdout",
     "output_type": "stream",
     "text": [
      "[[230065  17987]\n",
      " [  8882  12753]]\n"
     ]
    },
    {
     "data": {
      "image/png": "[encoded data removed]",
      "text/plain": [
       "<Figure size 432x288 with 2 Axes>"
      ]
     },
     "metadata": {},
     "output_type": "display_data"
    }
   ],
   "source": [
    "confusion__matrix(y_test,x_test_BOW_predicted_class)"
   ]
  },
  {
   "cell_type": "markdown",
   "metadata": {},
   "source": [
    "# 2. Naive Bayes model with TFIDF"
   ]
  },
  {
   "cell_type": "markdown",
   "metadata": {},
   "source": [
    "### Loding Preprocessed data  for ML models"
   ]
  },
  {
   "cell_type": "code",
   "execution_count": 43,
   "metadata": {},
   "outputs": [],
   "source": [
    "import pickle\n",
    "  \n",
    "# Open the file in binary mode\n",
    "with open('data_TFIDF.pkl', 'rb') as file:\n",
    "      \n",
    "    # Call load method to deserialze\n",
    "    x_train_TFIDF , x_cv_TFIDF , x_test_TFIDF, y_train, y_cv, y_test,Test_Final_pre_text_data_ML = pickle.load(file)\n",
    " "
   ]
  },
  {
   "cell_type": "markdown",
   "metadata": {},
   "source": [
    "### Loding data which contain all Subgroup identity for ML models"
   ]
  },
  {
   "cell_type": "code",
   "execution_count": 3,
   "metadata": {},
   "outputs": [],
   "source": [
    "import pickle\n",
    "# Open the file in binary mode\n",
    "with open('data_BOW.pkl', 'rb') as file: \n",
    "    # Call load method to deserialze\n",
    "    x_train_BOW , x_cv_BOW , x_test_BOW, y_train, y_cv, y_test,Test_Final_pre_text_data_ML_BOW = pickle.load(file)"
   ]
  },
  {
   "cell_type": "code",
   "execution_count": 160,
   "metadata": {},
   "outputs": [],
   "source": [
    "import pickle\n",
    "  \n",
    "# Open the file in binary mode\n",
    "with open('data_train_test_cv_csv_all_columns.pkl', 'rb') as file:\n",
    "      \n",
    "    # Call load method to deserialze\n",
    "    x_train, x_cv , x_test, y_train, y_cv, y_test = pickle.load(file)"
   ]
  },
  {
   "cell_type": "markdown",
   "metadata": {},
   "source": [
    "> ## Hyperparameter Tunning."
   ]
  },
  {
   "cell_type": "code",
   "execution_count": null,
   "metadata": {},
   "outputs": [],
   "source": [
    "import pickle\n",
    "  \n",
    "# Open the file in binary mode\n",
    "with open('data_TFIDF.pkl', 'rb') as file:\n",
    "      \n",
    "    # Call load method to deserialze\n",
    "    x_train_TFIDF , x_cv_TFIDF , x_test_TFIDF, y_train, y_cv, y_test,Test_Final_pre_text_data_ML = pickle.load(file)\n",
    " "
   ]
  },
  {
   "cell_type": "markdown",
   "metadata": {},
   "source": [
    "> Handling Nan Values and Converting_into_boolean "
   ]
  },
  {
   "cell_type": "code",
   "execution_count": 16,
   "metadata": {},
   "outputs": [],
   "source": [
    "def Converting_into_boolean(new_data):\n",
    "    new_data['asian'] = new_data['asian'].fillna(0)\n",
    "    new_data['asian'] = new_data['asian'].apply(lambda x: 0 if x < 0.5 else 1)\n",
    "\n",
    "    new_data['atheist'] = new_data['atheist'].fillna(0)\n",
    "    new_data['atheist'] = new_data['atheist'].apply(lambda x: 0 if x < 0.5 else 1)\n",
    "\n",
    "    new_data['bisexual'] = new_data['bisexual'].fillna(0)\n",
    "    new_data['bisexual'] = new_data['bisexual'].apply(lambda x: 0 if x < 0.5 else 1)\n",
    "\n",
    "    new_data['black'] = new_data['black'].fillna(0)\n",
    "    new_data['black'] = new_data['black'].apply(lambda x: 0 if x < 0.5 else 1)\n",
    "\n",
    "    new_data['buddhist'] = new_data['buddhist'].fillna(0)\n",
    "    new_data['buddhist'] = new_data['buddhist'].apply(lambda x: 0 if x < 0.5 else 1)\n",
    "\n",
    "    new_data['christian'] = new_data['christian'].fillna(0)\n",
    "    new_data['christian'] = new_data['christian'].apply(lambda x: 0 if x < 0.5 else 1)\n",
    "\n",
    "    new_data['female'] = new_data['female'].fillna(0)\n",
    "    new_data['female'] = new_data['female'].apply(lambda x: 0 if x < 0.5 else 1)\n",
    "\n",
    "    new_data['heterosexual'] = new_data['heterosexual'].fillna(0)\n",
    "    new_data['heterosexual'] = new_data['heterosexual'].apply(lambda x: 0 if x < 0.5 else 1)\n",
    "\n",
    "    new_data['hindu'] = new_data['hindu'].fillna(0)\n",
    "    new_data['hindu'] = new_data['hindu'].apply(lambda x: 0 if x < 0.5 else 1)\n",
    "\n",
    "    new_data['homosexual_gay_or_lesbian'] = new_data['homosexual_gay_or_lesbian'].fillna(0)\n",
    "    new_data['homosexual_gay_or_lesbian'] = new_data['homosexual_gay_or_lesbian'].apply(lambda x: 0 if x < 0.5 else 1)\n",
    "\n",
    "    new_data['intellectual_or_learning_disability'] = new_data['intellectual_or_learning_disability'].fillna(0)\n",
    "    new_data['intellectual_or_learning_disability'] = new_data['intellectual_or_learning_disability'].apply(lambda x: 0 if x < 0.5 else 1)\n",
    "\n",
    "    new_data['jewish'] = new_data['jewish'].fillna(0)\n",
    "    new_data['jewish'] = new_data['jewish'].apply(lambda x: 0 if x < 0.5 else 1)\n",
    "\n",
    "    new_data['latino'] = new_data['latino'].fillna(0)\n",
    "    new_data['latino'] = new_data['latino'].apply(lambda x: 0 if x < 0.5 else 1)\n",
    "\n",
    "    new_data['male'] = new_data['male'].fillna(0)\n",
    "    new_data['male'] = new_data['male'].apply(lambda x: 0 if x < 0.5 else 1)\n",
    "\n",
    "    new_data['muslim'] = new_data['muslim'].fillna(0)\n",
    "    new_data['muslim'] = new_data['muslim'].apply(lambda x: 0 if x < 0.5 else 1)\n",
    "\n",
    "    new_data['other_disability'] = new_data['other_disability'].fillna(0)\n",
    "    new_data['other_disability'] = new_data['other_disability'].apply(lambda x: 0 if x < 0.5 else 1)\n",
    "\n",
    "    new_data['other_gender'] = new_data['other_gender'].fillna(0)\n",
    "    new_data['other_gender'] = new_data['other_gender'].apply(lambda x: 0 if x < 0.5 else 1)\n",
    "\n",
    "    new_data['other_race_or_ethnicity'] = new_data['other_race_or_ethnicity'].fillna(0)\n",
    "    new_data['other_race_or_ethnicity'] = new_data['other_race_or_ethnicity'].apply(lambda x: 0 if x < 0.5 else 1)\n",
    "\n",
    "    new_data['other_religion'] = new_data['other_religion'].fillna(0)\n",
    "    new_data['other_religion'] = new_data['other_religion'].apply(lambda x: 0 if x < 0.5 else 1)\n",
    "\n",
    "    new_data['other_sexual_orientation'] = new_data['other_sexual_orientation'].fillna(0)\n",
    "    new_data['other_sexual_orientation'] = new_data['other_sexual_orientation'].apply(lambda x: 0 if x < 0.5 else 1)\n",
    "\n",
    "    new_data['physical_disability'] = new_data['physical_disability'].fillna(0)\n",
    "    new_data['physical_disability'] = new_data['physical_disability'].apply(lambda x: 0 if x < 0.5 else 1)\n",
    "\n",
    "    new_data['psychiatric_or_mental_illness'] = new_data['psychiatric_or_mental_illness'].fillna(0)\n",
    "    new_data['psychiatric_or_mental_illness'] = new_data['psychiatric_or_mental_illness'].apply(lambda x: 0 if x < 0.5 else 1)\n",
    "\n",
    "    new_data['transgender'] = new_data['transgender'].fillna(0)\n",
    "    new_data['transgender'] = new_data['transgender'].apply(lambda x: 0 if x < 0.5 else 1)\n",
    "\n",
    "    new_data['white'] = new_data['white'].fillna(0)\n",
    "    new_data['white'] = new_data['white'].apply(lambda x: 0 if x < 0.5 else 1)\n",
    "    \n",
    "    return new_data"
   ]
  },
  {
   "cell_type": "markdown",
   "metadata": {},
   "source": [
    "> Function which calculate bias AUC"
   ]
  },
  {
   "cell_type": "code",
   "execution_count": 164,
   "metadata": {},
   "outputs": [],
   "source": [
    "SUBGROUP_AUC = 'subgroup_auc'\n",
    "BPSN_AUC = 'bpsn_auc'  # stands for background positive, subgroup negative\n",
    "BNSP_AUC = 'bnsp_auc'  # stands for background negative, subgroup positive\n",
    "\n",
    "def compute_auc(y_true, y_pred):\n",
    "    try:\n",
    "        return metrics.roc_auc_score(y_true, y_pred)\n",
    "    except ValueError:\n",
    "        return np.nan\n",
    "\n",
    "def compute_subgroup_auc(df, subgroup, label, model_name):\n",
    "    subgroup_examples = df[df[subgroup]==1]\n",
    "    return compute_auc(subgroup_examples[label], subgroup_examples[model_name])\n",
    "\n",
    "def compute_bpsn_auc(df, subgroup, label, model_name):\n",
    "    \"\"\"Computes the AUC of the within-subgroup negative examples and the background positive examples.\"\"\"\n",
    "    subgroup_negative_examples = df[(df[subgroup]==1) & (df[label]=='non-toxic')]\n",
    "    non_subgroup_positive_examples = df[(df[subgroup]==0) & (df[label]=='toxic')]\n",
    "    examples = subgroup_negative_examples.append(non_subgroup_positive_examples)\n",
    "    return compute_auc(examples[label], examples[model_name])\n",
    "\n",
    "def compute_bnsp_auc(df, subgroup, label, model_name):\n",
    "    \"\"\"Computes the AUC of the within-subgroup positive examples and the background negative examples.\"\"\"\n",
    "    subgroup_positive_examples = df[(df[subgroup]==1)&(df[label]=='toxic')]\n",
    "    non_subgroup_negative_examples = df[(df[subgroup]==0) & (df[label]=='non-toxic')]\n",
    "    examples = subgroup_positive_examples.append(non_subgroup_negative_examples)\n",
    "    return compute_auc(examples[label], examples[model_name])\n",
    "\n",
    "def compute_bias_metrics_for_model(dataset,\n",
    "                                   subgroups,\n",
    "                                   model,\n",
    "                                   label_col,\n",
    "                                   include_asegs=False):\n",
    "    \"\"\"Computes per-subgroup metrics for all subgroups and one model.\"\"\"\n",
    "    records = []\n",
    "    for subgroup in subgroups:\n",
    "        record = {\n",
    "            'subgroup': subgroup,\n",
    "            'subgroup_size': dataset[subgroup].sum()\n",
    "        }\n",
    "        record[SUBGROUP_AUC] = compute_subgroup_auc(dataset, subgroup, label_col, model)\n",
    "        record[BPSN_AUC] = compute_bpsn_auc(dataset, subgroup, label_col, model)\n",
    "        record[BNSP_AUC] = compute_bnsp_auc(dataset, subgroup, label_col, model)\n",
    "        records.append(record)\n",
    "    return pd.DataFrame(records).sort_values('subgroup_auc', ascending=True)\n",
    "\n",
    "# identity_columns = subgroup\n",
    "# MODEL_NAME = 'naive_proba'\n",
    "# TOXICITY_COLUMN  = 'class'\n",
    "# bias_metrics_df = compute_bias_metrics_for_model(x_cv_1, identity_columns, MODEL_NAME, TOXICITY_COLUMN)\n",
    "# bias_metrics_df\n"
   ]
  },
  {
   "cell_type": "markdown",
   "metadata": {},
   "source": [
    "> Function which caluclate final_metric (weighted AUC)"
   ]
  },
  {
   "cell_type": "code",
   "execution_count": 165,
   "metadata": {},
   "outputs": [],
   "source": [
    "TOXICITY_COLUMN = 'class'\n",
    "TEXT_COLUMN = 'comment_text'\n",
    "MODEL_NAME = 'naive_proba'\n",
    "def calculate_overall_auc(df, model_name):\n",
    "    true_labels = df[TOXICITY_COLUMN]\n",
    "    predicted_labels = df[model_name]\n",
    "    return metrics.roc_auc_score(true_labels, predicted_labels)\n",
    "\n",
    "def power_mean(series, p):\n",
    "    total = sum(np.power(series, p))\n",
    "    return np.power(total / len(series), 1 / p)\n",
    "\n",
    "def get_final_metric(bias_df, overall_auc, POWER=-5, OVERALL_MODEL_WEIGHT=0.25):\n",
    "    bias_score = np.average([\n",
    "        power_mean(bias_df[SUBGROUP_AUC], POWER),\n",
    "        power_mean(bias_df[BPSN_AUC], POWER),\n",
    "        power_mean(bias_df[BNSP_AUC], POWER)\n",
    "    ])\n",
    "    return (OVERALL_MODEL_WEIGHT * overall_auc) + ((1 - OVERALL_MODEL_WEIGHT) * bias_score)\n",
    "    \n",
    "# get_final_metric(bias_metrics_df, calculate_overall_auc(x_cv_1, MODEL_NAME))\n"
   ]
  },
  {
   "cell_type": "markdown",
   "metadata": {},
   "source": [
    "> function only return that identity/subgroups which occurs"
   ]
  },
  {
   "cell_type": "code",
   "execution_count": 166,
   "metadata": {},
   "outputs": [],
   "source": [
    "# this function only return that identity/subgroups which occurs\n",
    "def parameters(x_cv):\n",
    "    x_cv = x_cv[['asian', 'atheist', 'bisexual',\n",
    "       'black', 'buddhist', 'christian', 'female', 'heterosexual', 'hindu',\n",
    "       'homosexual_gay_or_lesbian', 'intellectual_or_learning_disability',\n",
    "       'jewish', 'latino', 'male', 'muslim', 'other_disability',\n",
    "       'other_gender', 'other_race_or_ethnicity', 'other_religion',\n",
    "       'other_sexual_orientation', 'physical_disability',\n",
    "       'psychiatric_or_mental_illness', 'transgender', 'white','class']]\n",
    "    list_ = x_cv.columns[:24]  # droping class colummn\n",
    "    subgroup = []\n",
    "    for i in list_:\n",
    "        if x_cv[x_cv[i]==1][i].count() >500:\n",
    "#             print(i,':',x_cv[x_cv[i] ==1][i].count())\n",
    "            subgroup.append(i)\n",
    "    return subgroup"
   ]
  },
  {
   "cell_type": "markdown",
   "metadata": {},
   "source": [
    "> Function to calculate Confusion matrix"
   ]
  },
  {
   "cell_type": "code",
   "execution_count": 167,
   "metadata": {},
   "outputs": [],
   "source": [
    "## making confusion matrix\n",
    "# https://medium.com/@dtuk81/confusion-matrix-visualization-fc31e3f30fea\n",
    "from sklearn.metrics import confusion_matrix\n",
    "def confusion__matrix(y_test,Y_predicted):\n",
    "    cm=confusion_matrix(y_test,Y_predicted)\n",
    "    print(cm)\n",
    "    ax= plt.subplot();\n",
    "    cm_= cm.reshape(4) # count \n",
    "    percentage = ((cm_/cm_.sum()).round(4))*100 # in percentage\n",
    "    group_names_ = ['True Neg ','False Pos','False Neg','True Pos']\n",
    "    group_names = []\n",
    "    for i in range(4):\n",
    "        str_ = group_names_[i] + '\\n'+ str(cm_[i]) + '\\n'+ str(percentage[i])+\"%\"\n",
    "        group_names.append(str_)\n",
    "#     group_names = ['True Neg ','False Pos','False Neg','True Pos']\n",
    "    group_names = np.array(group_names).reshape(2,2)\n",
    "    sns.heatmap(cm, annot=group_names,fmt=\"\",cmap='Blues')\n",
    "    ax.set_xlabel('Predicted labels');\n",
    "    ax.set_ylabel('True labels');\n",
    "    ax.set_ylim(2.0, 0)\n",
    "    ax.set_title('Confusion Matrix');\n",
    "    ax.xaxis.set_ticklabels(['0','1']);\n",
    "    ax.yaxis.set_ticklabels(['0','1']);"
   ]
  },
  {
   "cell_type": "markdown",
   "metadata": {},
   "source": [
    "> Function to plot AUC_ROC curve "
   ]
  },
  {
   "cell_type": "code",
   "execution_count": 177,
   "metadata": {},
   "outputs": [],
   "source": [
    "def Plot_AUC_ROC_curve(y_test,y_train,x_test_BOW_predicted,x_train_BOW_predicted):\n",
    "    y_test_= [0 if i=='non-toxic' else 1 for i in y_test ]\n",
    "    y_train_= [0 if i=='non-toxic' else 1 for i in y_train ]\n",
    "    # x_test_BOW_predicted_class_= [0 if i=='non-toxic' else 1 for i in x_test_BOW_predicted_class ]\n",
    "\n",
    "    fpr_test, tpr_test, threshold_test = roc_curve(y_test_, x_test_BOW_predicted,pos_label=1)\n",
    "    fpr_train, tpr_train, threshold_train = roc_curve(y_train_, x_train_BOW_predicted,pos_label=1)\n",
    "\n",
    "    \n",
    "    roc_auc_test = roc_auc_score(y_test,x_test_BOW_predicted)\n",
    "    roc_auc_train = roc_auc_score(y_train,x_train_BOW_predicted)\n",
    "\n",
    "    plt.title('Receiver Operating Characteristic')\n",
    "\n",
    "    plt.plot(fpr_test, tpr_test, 'r', label = 'Test AUC = %0.2f' % roc_auc_test)\n",
    "    plt.plot(fpr_train, tpr_train, 'b', label = 'Train AUC = %0.2f' % roc_auc_train)\n",
    "\n",
    "    plt.legend(loc = 'lower right')\n",
    "    plt.plot([0, 1], [0, 1],'g--')\n",
    "    plt.xlim([0, 1])\n",
    "    plt.ylim([0, 1])\n",
    "    plt.ylabel('True Positive Rate')\n",
    "    plt.xlabel('False Positive Rate')\n",
    "    plt.show()\n",
    "    \n",
    "    ## Calculating best threshold  # https://stackoverflow.com/questions/28719067/roc-curve-and-cut-off-point-python\n",
    "    best_threshold_test= threshold_test[np.argmax(tpr_test - fpr_test)]\n",
    "    best_threshold_train= threshold_train[np.argmax(tpr_train - fpr_train)]\n",
    "    return roc_auc_test,roc_auc_train,best_threshold_test,best_threshold_train ## simple AUC score"
   ]
  },
  {
   "cell_type": "markdown",
   "metadata": {},
   "source": [
    "> Function which perform hyperparameter tunning"
   ]
  },
  {
   "cell_type": "code",
   "execution_count": 169,
   "metadata": {},
   "outputs": [],
   "source": [
    "from tqdm import tqdm"
   ]
  },
  {
   "cell_type": "code",
   "execution_count": 170,
   "metadata": {},
   "outputs": [],
   "source": [
    "def hyper_parametertunning(x_train_BOW,x_cv_BOW,x_cv,x_train,y_train,y_cv):\n",
    "    classifier = MultinomialNB() #classifier   \n",
    "    alphas=[0.00001,0.0001,0.001,0.01,0.1,1,10,100,300,500]\n",
    "    train_AUC = []\n",
    "    cv_AUC = []\n",
    "    for i in tqdm(alphas):\n",
    "        classifier = MultinomialNB(alpha=i)\n",
    "        classifier.fit(x_train_BOW,y_train)\n",
    "        \n",
    "        ## Calculating AUC for x_CV\n",
    "        x_cv_BOW_predicted = classifier.predict_proba(x_cv_BOW)[:,1]\n",
    "        x_cv['naive_proba'] = x_cv_BOW_predicted\n",
    "        subgroup = parameters(x_cv)\n",
    "        identity_columns = subgroup\n",
    "        MODEL_NAME = 'naive_proba'\n",
    "        TOXICITY_COLUMN  = 'class'\n",
    "        bias_metrics_df = compute_bias_metrics_for_model(x_cv, identity_columns, MODEL_NAME, TOXICITY_COLUMN)\n",
    "        AUC_CV = get_final_metric(bias_metrics_df, calculate_overall_auc(x_cv, MODEL_NAME))\n",
    "        cv_AUC.append(AUC_CV)\n",
    "        \n",
    "        \n",
    "        ## Calculating AUC for x_train\n",
    "        x_train_BOW_predicted = classifier.predict_proba(x_train_BOW)[:,1]\n",
    "        x_train['naive_proba'] = x_train_BOW_predicted\n",
    "        subgroup = parameters(x_train)\n",
    "        identity_columns = subgroup\n",
    "        MODEL_NAME = 'naive_proba'\n",
    "        TOXICITY_COLUMN  = 'class'\n",
    "        bias_metrics_df = compute_bias_metrics_for_model(x_train, identity_columns, MODEL_NAME, TOXICITY_COLUMN)\n",
    "        AUC_train = get_final_metric(bias_metrics_df, calculate_overall_auc(x_train, MODEL_NAME))\n",
    "        train_AUC.append(AUC_train)\n",
    "        \n",
    "        \n",
    "        \n",
    "        \n",
    "    return train_AUC, cv_AUC ,alphas"
   ]
  },
  {
   "cell_type": "markdown",
   "metadata": {},
   "source": [
    "> preparing data  Handling Nan Values and Converting_into_boolean "
   ]
  },
  {
   "cell_type": "code",
   "execution_count": 161,
   "metadata": {},
   "outputs": [],
   "source": [
    "x_train = Converting_into_boolean(x_train)\n",
    "x_cv = Converting_into_boolean(x_cv)\n",
    "x_test = Converting_into_boolean(x_test)"
   ]
  },
  {
   "cell_type": "markdown",
   "metadata": {},
   "source": [
    "> Calling hyper_parametertunning function"
   ]
  },
  {
   "cell_type": "code",
   "execution_count": 24,
   "metadata": {},
   "outputs": [],
   "source": [
    "import pandas as pd"
   ]
  },
  {
   "cell_type": "code",
   "execution_count": null,
   "metadata": {},
   "outputs": [],
   "source": [
    " x_train_TFIDF , x_cv_TFIDF , x_test_TFIDF"
   ]
  },
  {
   "cell_type": "code",
   "execution_count": 171,
   "metadata": {},
   "outputs": [
    {
     "name": "stderr",
     "output_type": "stream",
     "text": [
      "100%|██████████████████████████████████████████████████████████████████████████████████| 10/10 [13:15<00:00, 79.59s/it]\n"
     ]
    },
    {
     "name": "stdout",
     "output_type": "stream",
     "text": [
      "      alphas  train_AUC    cv_AUC\n",
      "0    0.00001   0.847557  0.839623\n",
      "1    0.00010   0.847557  0.839623\n",
      "2    0.00100   0.847557  0.839626\n",
      "3    0.01000   0.847572  0.839655\n",
      "4    0.10000   0.847734  0.839937\n",
      "5    1.00000   0.848635  0.841497\n",
      "6   10.00000   0.833995  0.827790\n",
      "7  100.00000   0.700661  0.698154\n",
      "8  300.00000   0.635188  0.635583\n",
      "9  500.00000   0.615041  0.616273\n"
     ]
    },
    {
     "data": {
      "image/png": "[encoded data removed]",
      "text/plain": [
       "<Figure size 432x288 with 1 Axes>"
      ]
     },
     "metadata": {},
     "output_type": "display_data"
    }
   ],
   "source": [
    "train_AUC, cv_AUC ,alphas=hyper_parametertunning(x_train_TFIDF,x_cv_TFIDF,x_cv,x_train,y_train,y_cv)\n",
    "data_frame = pd.DataFrame({'alphas':alphas,'train_AUC':train_AUC,'cv_AUC':cv_AUC})\n",
    "print(data_frame)\n",
    "plt.plot(alphas,cv_AUC, label='cv cruve')\n",
    "plt.plot(alphas,train_AUC ,label='train cruve')\n",
    "plt.xlabel('Hyper-parameter')\n",
    "plt.ylabel('weighted roc_auc_score')\n",
    "plt.title('Hyper-parameter VS roc_auc_score')\n",
    "plt.legend()\n",
    "plt.show()"
   ]
  },
  {
   "cell_type": "markdown",
   "metadata": {},
   "source": [
    "> Applying best hyperparameter to Naive bayes"
   ]
  },
  {
   "cell_type": "code",
   "execution_count": 172,
   "metadata": {},
   "outputs": [],
   "source": [
    "## Test data\n",
    "classifier = MultinomialNB(alpha=0.00001)\n",
    "classifier.fit(x_train_TFIDF,y_train)\n",
    "x_test_TFIDF_predicted = classifier.predict_proba(x_test_TFIDF)[:,1]\n",
    "x_test_TFIDF_predicted_class = classifier.predict(x_test_TFIDF)\n",
    "x_train_TFIDF_predicted = classifier.predict_proba(x_train_TFIDF)[:,1]\n",
    "x_test['naive_proba'] = x_test_TFIDF_predicted\n",
    "subgroup = parameters(x_test)\n",
    "identity_columns = subgroup\n",
    "MODEL_NAME = 'naive_proba'\n",
    "TOXICITY_COLUMN  = 'class'\n",
    "bias_metrics_df = compute_bias_metrics_for_model(x_test, identity_columns, MODEL_NAME, TOXICITY_COLUMN)\n",
    "AUC_test = get_final_metric(bias_metrics_df, calculate_overall_auc(x_test, MODEL_NAME))"
   ]
  },
  {
   "cell_type": "code",
   "execution_count": 178,
   "metadata": {},
   "outputs": [
    {
     "data": {
      "image/png": "[encoded data removed]",
      "text/plain": [
       "<Figure size 432x288 with 1 Axes>"
      ]
     },
     "metadata": {},
     "output_type": "display_data"
    }
   ],
   "source": [
    "roc_auc_test,roc_auc_train,best_threshold_test,best_threshold_train = Plot_AUC_ROC_curve(y_test,y_train,x_test_TFIDF_predicted,x_train_TFIDF_predicted)"
   ]
  },
  {
   "cell_type": "code",
   "execution_count": 179,
   "metadata": {},
   "outputs": [
    {
     "name": "stdout",
     "output_type": "stream",
     "text": [
      "roc_auc_test :  0.8822306846424111\n",
      "roc_auc_train :  0.8872055011552498\n",
      "best_threshold_test :  0.09058715059793947\n",
      "best_threshold_train :  0.09371936071524734\n"
     ]
    }
   ],
   "source": [
    "print('roc_auc_test : ',roc_auc_test)\n",
    "print('roc_auc_train : ',roc_auc_train)\n",
    "print('best_threshold_test : ',best_threshold_test)\n",
    "print('best_threshold_train : ',best_threshold_train)"
   ]
  },
  {
   "cell_type": "code",
   "execution_count": 180,
   "metadata": {},
   "outputs": [
    {
     "name": "stdout",
     "output_type": "stream",
     "text": [
      " weighted roc_auc_test :  0.8420078150739102\n"
     ]
    }
   ],
   "source": [
    "print(' weighted roc_auc_test : ',AUC_test)"
   ]
  },
  {
   "cell_type": "markdown",
   "metadata": {},
   "source": [
    "> As we can see the weighted AUC matric mitigate the effect of bias word.\n",
    "* Simple AUC = 0.88223\n",
    "* weighted  AUC = 0.8420\n",
    "* the best threshold we got approx is 0.09"
   ]
  },
  {
   "cell_type": "markdown",
   "metadata": {},
   "source": [
    "> Confusion Matrix"
   ]
  },
  {
   "cell_type": "code",
   "execution_count": 181,
   "metadata": {},
   "outputs": [],
   "source": [
    "## making confusion matrix\n",
    "# https://medium.com/@dtuk81/confusion-matrix-visualization-fc31e3f30fea\n",
    "from sklearn.metrics import confusion_matrix\n",
    "def confusion__matrix(y_test,Y_predicted):\n",
    "    cm=confusion_matrix(y_test,Y_predicted)\n",
    "    print(cm)\n",
    "    ax= plt.subplot();\n",
    "    cm_= cm.reshape(4) # count \n",
    "    percentage = ((cm_/cm_.sum()).round(4))*100 # in percentage\n",
    "    group_names_ = ['True Neg ','False Pos','False Neg','True Pos']\n",
    "    group_names = []\n",
    "    for i in range(4):\n",
    "        str_ = group_names_[i] + '\\n'+ str(cm_[i]) + '\\n'+ str(percentage[i])+\"%\"\n",
    "        group_names.append(str_)\n",
    "#     group_names = ['True Neg ','False Pos','False Neg','True Pos']\n",
    "    group_names = np.array(group_names).reshape(2,2)\n",
    "    sns.heatmap(cm, annot=group_names,fmt=\"\",cmap='Blues')\n",
    "    ax.set_xlabel('Predicted labels');\n",
    "    ax.set_ylabel('True labels');\n",
    "    ax.set_ylim(2.0, 0)\n",
    "    ax.set_title('Confusion Matrix');\n",
    "    ax.xaxis.set_ticklabels(['0','1']);\n",
    "    ax.yaxis.set_ticklabels(['0','1']);"
   ]
  },
  {
   "cell_type": "code",
   "execution_count": 182,
   "metadata": {
    "scrolled": false
   },
   "outputs": [
    {
     "name": "stdout",
     "output_type": "stream",
     "text": [
      "[[247963     89]\n",
      " [ 19966   1669]]\n"
     ]
    },
    {
     "data": {
      "image/png": "[encoded data removed]",
      "text/plain": [
       "<Figure size 432x288 with 2 Axes>"
      ]
     },
     "metadata": {},
     "output_type": "display_data"
    }
   ],
   "source": [
    "confusion__matrix(y_test,x_test_TFIDF_predicted_class)"
   ]
  },
  {
   "cell_type": "markdown",
   "metadata": {},
   "source": [
    "# 3.  Logistic regression model with BOW"
   ]
  },
  {
   "cell_type": "markdown",
   "metadata": {},
   "source": [
    "> ## Hyperparameter Tunning."
   ]
  },
  {
   "cell_type": "markdown",
   "metadata": {},
   "source": [
    "### Loding Preprocessed data  for ML models"
   ]
  },
  {
   "cell_type": "code",
   "execution_count": 44,
   "metadata": {},
   "outputs": [],
   "source": [
    "import pickle\n",
    "# Open the file in binary mode\n",
    "with open('data_BOW.pkl', 'rb') as file: \n",
    "    # Call load method to deserialze\n",
    "    x_train_BOW , x_cv_BOW , x_test_BOW, y_train, y_cv, y_test,Test_Final_pre_text_data_ML_BOW = pickle.load(file)"
   ]
  },
  {
   "cell_type": "markdown",
   "metadata": {},
   "source": [
    "> Scaling donw the data in range of 0 to 1\n"
   ]
  },
  {
   "cell_type": "code",
   "execution_count": 30,
   "metadata": {},
   "outputs": [],
   "source": [
    "# from sklearn.preprocessing import StandardScaler\n",
    "# scaler = StandardScaler()\n",
    "\n",
    "# scaler.fit(x_train_BOW)\n",
    "# x_train_BOW = scaler.transform(x_train_BOW)\n",
    "# x_cv_BOW = scaler.transform(x_cv_BOW)\n",
    "# x_test_BOW = scaler.transform(x_test_BOW)\n"
   ]
  },
  {
   "cell_type": "code",
   "execution_count": 45,
   "metadata": {},
   "outputs": [],
   "source": [
    "# https://scikit-learn.org/stable/modules/generated/sklearn.preprocessing.MaxAbsScaler.html\n",
    "from sklearn.preprocessing import MaxAbsScaler\n",
    "\n",
    "transformer = MaxAbsScaler().fit(x_train_BOW)\n",
    "x_train_BOW = transformer.transform(x_train_BOW)\n",
    "\n",
    "x_cv_BOW = transformer.transform(x_cv_BOW)\n",
    "\n",
    "x_test_BOW = transformer.transform(x_test_BOW)\n"
   ]
  },
  {
   "cell_type": "markdown",
   "metadata": {},
   "source": [
    "### Loding data which contain all Subgroup identity for ML models"
   ]
  },
  {
   "cell_type": "code",
   "execution_count": 46,
   "metadata": {},
   "outputs": [],
   "source": [
    "import pickle\n",
    "  \n",
    "# Open the file in binary mode\n",
    "with open('data_train_test_cv_csv_all_columns.pkl', 'rb') as file:\n",
    "      \n",
    "    # Call load method to deserialze\n",
    "    x_train, x_cv , x_test, y_train, y_cv, y_test = pickle.load(file)"
   ]
  },
  {
   "cell_type": "code",
   "execution_count": 10,
   "metadata": {},
   "outputs": [
    {
     "data": {
      "text/plain": [
       "(1298988, 10000)"
      ]
     },
     "execution_count": 10,
     "metadata": {},
     "output_type": "execute_result"
    }
   ],
   "source": [
    "x_train_BOW.shape"
   ]
  },
  {
   "cell_type": "markdown",
   "metadata": {},
   "source": [
    "> Handling Nan Values and Converting_into_boolean "
   ]
  },
  {
   "cell_type": "code",
   "execution_count": 11,
   "metadata": {},
   "outputs": [],
   "source": [
    "def Converting_into_boolean(new_data):\n",
    "    new_data['asian'] = new_data['asian'].fillna(0)\n",
    "    new_data['asian'] = new_data['asian'].apply(lambda x: 0 if x < 0.5 else 1)\n",
    "\n",
    "    new_data['atheist'] = new_data['atheist'].fillna(0)\n",
    "    new_data['atheist'] = new_data['atheist'].apply(lambda x: 0 if x < 0.5 else 1)\n",
    "\n",
    "    new_data['bisexual'] = new_data['bisexual'].fillna(0)\n",
    "    new_data['bisexual'] = new_data['bisexual'].apply(lambda x: 0 if x < 0.5 else 1)\n",
    "\n",
    "    new_data['black'] = new_data['black'].fillna(0)\n",
    "    new_data['black'] = new_data['black'].apply(lambda x: 0 if x < 0.5 else 1)\n",
    "\n",
    "    new_data['buddhist'] = new_data['buddhist'].fillna(0)\n",
    "    new_data['buddhist'] = new_data['buddhist'].apply(lambda x: 0 if x < 0.5 else 1)\n",
    "\n",
    "    new_data['christian'] = new_data['christian'].fillna(0)\n",
    "    new_data['christian'] = new_data['christian'].apply(lambda x: 0 if x < 0.5 else 1)\n",
    "\n",
    "    new_data['female'] = new_data['female'].fillna(0)\n",
    "    new_data['female'] = new_data['female'].apply(lambda x: 0 if x < 0.5 else 1)\n",
    "\n",
    "    new_data['heterosexual'] = new_data['heterosexual'].fillna(0)\n",
    "    new_data['heterosexual'] = new_data['heterosexual'].apply(lambda x: 0 if x < 0.5 else 1)\n",
    "\n",
    "    new_data['hindu'] = new_data['hindu'].fillna(0)\n",
    "    new_data['hindu'] = new_data['hindu'].apply(lambda x: 0 if x < 0.5 else 1)\n",
    "\n",
    "    new_data['homosexual_gay_or_lesbian'] = new_data['homosexual_gay_or_lesbian'].fillna(0)\n",
    "    new_data['homosexual_gay_or_lesbian'] = new_data['homosexual_gay_or_lesbian'].apply(lambda x: 0 if x < 0.5 else 1)\n",
    "\n",
    "    new_data['intellectual_or_learning_disability'] = new_data['intellectual_or_learning_disability'].fillna(0)\n",
    "    new_data['intellectual_or_learning_disability'] = new_data['intellectual_or_learning_disability'].apply(lambda x: 0 if x < 0.5 else 1)\n",
    "\n",
    "    new_data['jewish'] = new_data['jewish'].fillna(0)\n",
    "    new_data['jewish'] = new_data['jewish'].apply(lambda x: 0 if x < 0.5 else 1)\n",
    "\n",
    "    new_data['latino'] = new_data['latino'].fillna(0)\n",
    "    new_data['latino'] = new_data['latino'].apply(lambda x: 0 if x < 0.5 else 1)\n",
    "\n",
    "    new_data['male'] = new_data['male'].fillna(0)\n",
    "    new_data['male'] = new_data['male'].apply(lambda x: 0 if x < 0.5 else 1)\n",
    "\n",
    "    new_data['muslim'] = new_data['muslim'].fillna(0)\n",
    "    new_data['muslim'] = new_data['muslim'].apply(lambda x: 0 if x < 0.5 else 1)\n",
    "\n",
    "    new_data['other_disability'] = new_data['other_disability'].fillna(0)\n",
    "    new_data['other_disability'] = new_data['other_disability'].apply(lambda x: 0 if x < 0.5 else 1)\n",
    "\n",
    "    new_data['other_gender'] = new_data['other_gender'].fillna(0)\n",
    "    new_data['other_gender'] = new_data['other_gender'].apply(lambda x: 0 if x < 0.5 else 1)\n",
    "\n",
    "    new_data['other_race_or_ethnicity'] = new_data['other_race_or_ethnicity'].fillna(0)\n",
    "    new_data['other_race_or_ethnicity'] = new_data['other_race_or_ethnicity'].apply(lambda x: 0 if x < 0.5 else 1)\n",
    "\n",
    "    new_data['other_religion'] = new_data['other_religion'].fillna(0)\n",
    "    new_data['other_religion'] = new_data['other_religion'].apply(lambda x: 0 if x < 0.5 else 1)\n",
    "\n",
    "    new_data['other_sexual_orientation'] = new_data['other_sexual_orientation'].fillna(0)\n",
    "    new_data['other_sexual_orientation'] = new_data['other_sexual_orientation'].apply(lambda x: 0 if x < 0.5 else 1)\n",
    "\n",
    "    new_data['physical_disability'] = new_data['physical_disability'].fillna(0)\n",
    "    new_data['physical_disability'] = new_data['physical_disability'].apply(lambda x: 0 if x < 0.5 else 1)\n",
    "\n",
    "    new_data['psychiatric_or_mental_illness'] = new_data['psychiatric_or_mental_illness'].fillna(0)\n",
    "    new_data['psychiatric_or_mental_illness'] = new_data['psychiatric_or_mental_illness'].apply(lambda x: 0 if x < 0.5 else 1)\n",
    "\n",
    "    new_data['transgender'] = new_data['transgender'].fillna(0)\n",
    "    new_data['transgender'] = new_data['transgender'].apply(lambda x: 0 if x < 0.5 else 1)\n",
    "\n",
    "    new_data['white'] = new_data['white'].fillna(0)\n",
    "    new_data['white'] = new_data['white'].apply(lambda x: 0 if x < 0.5 else 1)\n",
    "    \n",
    "    return new_data"
   ]
  },
  {
   "cell_type": "markdown",
   "metadata": {},
   "source": [
    "> Function which calculate bias AUC"
   ]
  },
  {
   "cell_type": "code",
   "execution_count": 12,
   "metadata": {},
   "outputs": [],
   "source": [
    "SUBGROUP_AUC = 'subgroup_auc'\n",
    "BPSN_AUC = 'bpsn_auc'  # stands for background positive, subgroup negative\n",
    "BNSP_AUC = 'bnsp_auc'  # stands for background negative, subgroup positive\n",
    "\n",
    "def compute_auc(y_true, y_pred):\n",
    "    try:\n",
    "        return metrics.roc_auc_score(y_true, y_pred)\n",
    "    except ValueError:\n",
    "        return np.nan\n",
    "\n",
    "def compute_subgroup_auc(df, subgroup, label, model_name):\n",
    "    subgroup_examples = df[df[subgroup]==1]\n",
    "    return compute_auc(subgroup_examples[label], subgroup_examples[model_name])\n",
    "\n",
    "def compute_bpsn_auc(df, subgroup, label, model_name):\n",
    "    \"\"\"Computes the AUC of the within-subgroup negative examples and the background positive examples.\"\"\"\n",
    "    subgroup_negative_examples = df[(df[subgroup]==1) & (df[label]=='non-toxic')]\n",
    "    non_subgroup_positive_examples = df[(df[subgroup]==0) & (df[label]=='toxic')]\n",
    "    examples = subgroup_negative_examples.append(non_subgroup_positive_examples)\n",
    "    return compute_auc(examples[label], examples[model_name])\n",
    "\n",
    "def compute_bnsp_auc(df, subgroup, label, model_name):\n",
    "    \"\"\"Computes the AUC of the within-subgroup positive examples and the background negative examples.\"\"\"\n",
    "    subgroup_positive_examples = df[(df[subgroup]==1)&(df[label]=='toxic')]\n",
    "    non_subgroup_negative_examples = df[(df[subgroup]==0) & (df[label]=='non-toxic')]\n",
    "    examples = subgroup_positive_examples.append(non_subgroup_negative_examples)\n",
    "    return compute_auc(examples[label], examples[model_name])\n",
    "\n",
    "def compute_bias_metrics_for_model(dataset,\n",
    "                                   subgroups,\n",
    "                                   model,\n",
    "                                   label_col,\n",
    "                                   include_asegs=False):\n",
    "    \"\"\"Computes per-subgroup metrics for all subgroups and one model.\"\"\"\n",
    "    records = []\n",
    "    for subgroup in subgroups:\n",
    "        record = {\n",
    "            'subgroup': subgroup,\n",
    "            'subgroup_size': dataset[subgroup].sum()\n",
    "        }\n",
    "        record[SUBGROUP_AUC] = compute_subgroup_auc(dataset, subgroup, label_col, model)\n",
    "        record[BPSN_AUC] = compute_bpsn_auc(dataset, subgroup, label_col, model)\n",
    "        record[BNSP_AUC] = compute_bnsp_auc(dataset, subgroup, label_col, model)\n",
    "        records.append(record)\n",
    "    return pd.DataFrame(records).sort_values('subgroup_auc', ascending=True)\n",
    "\n",
    "# identity_columns = subgroup\n",
    "# MODEL_NAME = 'naive_proba'\n",
    "# TOXICITY_COLUMN  = 'class'\n",
    "# bias_metrics_df = compute_bias_metrics_for_model(x_cv_1, identity_columns, MODEL_NAME, TOXICITY_COLUMN)\n",
    "# bias_metrics_df\n"
   ]
  },
  {
   "cell_type": "markdown",
   "metadata": {},
   "source": [
    "> Function which caluclate final_metric (weighted AUC)"
   ]
  },
  {
   "cell_type": "code",
   "execution_count": 13,
   "metadata": {},
   "outputs": [],
   "source": [
    "TOXICITY_COLUMN = 'class'\n",
    "TEXT_COLUMN = 'comment_text'\n",
    "MODEL_NAME = 'naive_proba'\n",
    "def calculate_overall_auc(df, model_name):\n",
    "    true_labels = df[TOXICITY_COLUMN]\n",
    "    predicted_labels = df[model_name]\n",
    "    return metrics.roc_auc_score(true_labels, predicted_labels)\n",
    "\n",
    "def power_mean(series, p):\n",
    "    total = sum(np.power(series, p))\n",
    "    return np.power(total / len(series), 1 / p)\n",
    "\n",
    "def get_final_metric(bias_df, overall_auc, POWER=-5, OVERALL_MODEL_WEIGHT=0.25):\n",
    "    bias_score = np.average([\n",
    "        power_mean(bias_df[SUBGROUP_AUC], POWER),\n",
    "        power_mean(bias_df[BPSN_AUC], POWER),\n",
    "        power_mean(bias_df[BNSP_AUC], POWER)\n",
    "    ])\n",
    "    return (OVERALL_MODEL_WEIGHT * overall_auc) + ((1 - OVERALL_MODEL_WEIGHT) * bias_score)\n",
    "    \n",
    "# get_final_metric(bias_metrics_df, calculate_overall_auc(x_cv_1, MODEL_NAME))\n"
   ]
  },
  {
   "cell_type": "markdown",
   "metadata": {},
   "source": [
    "> function only return that identity/subgroups which occurs"
   ]
  },
  {
   "cell_type": "code",
   "execution_count": 14,
   "metadata": {},
   "outputs": [],
   "source": [
    "# this function only return that identity/subgroups which occurs\n",
    "def parameters(x_cv):\n",
    "    x_cv = x_cv[['asian', 'atheist', 'bisexual',\n",
    "       'black', 'buddhist', 'christian', 'female', 'heterosexual', 'hindu',\n",
    "       'homosexual_gay_or_lesbian', 'intellectual_or_learning_disability',\n",
    "       'jewish', 'latino', 'male', 'muslim', 'other_disability',\n",
    "       'other_gender', 'other_race_or_ethnicity', 'other_religion',\n",
    "       'other_sexual_orientation', 'physical_disability',\n",
    "       'psychiatric_or_mental_illness', 'transgender', 'white','class']]\n",
    "    list_ = x_cv.columns[:24]  # droping class colummn\n",
    "    subgroup = []\n",
    "    for i in list_:\n",
    "        if x_cv[x_cv[i]==1][i].count() >500:\n",
    "#             print(i,':',x_cv[x_cv[i] ==1][i].count())\n",
    "            subgroup.append(i)\n",
    "    return subgroup"
   ]
  },
  {
   "cell_type": "markdown",
   "metadata": {},
   "source": [
    "> Function to calculate Confusion matrix"
   ]
  },
  {
   "cell_type": "code",
   "execution_count": 15,
   "metadata": {},
   "outputs": [],
   "source": [
    "## making confusion matrix\n",
    "# https://medium.com/@dtuk81/confusion-matrix-visualization-fc31e3f30fea\n",
    "from sklearn.metrics import confusion_matrix\n",
    "def confusion__matrix(y_test,Y_predicted):\n",
    "    cm=confusion_matrix(y_test,Y_predicted)\n",
    "    print(cm)\n",
    "    ax= plt.subplot();\n",
    "    cm_= cm.reshape(4) # count \n",
    "    percentage = ((cm_/cm_.sum()).round(4))*100 # in percentage\n",
    "    group_names_ = ['True Neg ','False Pos','False Neg','True Pos']\n",
    "    group_names = []\n",
    "    for i in range(4):\n",
    "        str_ = group_names_[i] + '\\n'+ str(cm_[i]) + '\\n'+ str(percentage[i])+\"%\"\n",
    "        group_names.append(str_)\n",
    "#     group_names = ['True Neg ','False Pos','False Neg','True Pos']\n",
    "    group_names = np.array(group_names).reshape(2,2)\n",
    "    sns.heatmap(cm, annot=group_names,fmt=\"\",cmap='Blues')\n",
    "    ax.set_xlabel('Predicted labels');\n",
    "    ax.set_ylabel('True labels');\n",
    "    ax.set_ylim(2.0, 0)\n",
    "    ax.set_title('Confusion Matrix');\n",
    "    ax.xaxis.set_ticklabels(['0','1']);\n",
    "    ax.yaxis.set_ticklabels(['0','1']);"
   ]
  },
  {
   "cell_type": "markdown",
   "metadata": {},
   "source": [
    "> Function to plot AUC_ROC curve "
   ]
  },
  {
   "cell_type": "code",
   "execution_count": 35,
   "metadata": {},
   "outputs": [],
   "source": [
    "def Plot_AUC_ROC_curve(y_test,y_train,x_test_BOW_predicted,x_train_BOW_predicted):\n",
    "    y_test_= [0 if i=='non-toxic' else 1 for i in y_test ]\n",
    "    y_train_= [0 if i=='non-toxic' else 1 for i in y_train ]\n",
    "    # x_test_BOW_predicted_class_= [0 if i=='non-toxic' else 1 for i in x_test_BOW_predicted_class ]\n",
    "\n",
    "    fpr_test, tpr_test, threshold_test = roc_curve(y_test_, x_test_BOW_predicted,pos_label=1)\n",
    "    fpr_train, tpr_train, threshold_train = roc_curve(y_train_, x_train_BOW_predicted,pos_label=1)\n",
    "\n",
    "    \n",
    "    roc_auc_test = roc_auc_score(y_test,x_test_BOW_predicted)\n",
    "    roc_auc_train = roc_auc_score(y_train,x_train_BOW_predicted)\n",
    "\n",
    "    plt.title('Receiver Operating Characteristic')\n",
    "\n",
    "    plt.plot(fpr_test, tpr_test, 'r', label = 'Test AUC = %0.2f' % roc_auc_test)\n",
    "    plt.plot(fpr_train, tpr_train, 'b', label = 'Train AUC = %0.2f' % roc_auc_train)\n",
    "\n",
    "    plt.legend(loc = 'lower right')\n",
    "    plt.plot([0, 1], [0, 1],'g--')\n",
    "    plt.xlim([0, 1])\n",
    "    plt.ylim([0, 1])\n",
    "    plt.ylabel('True Positive Rate')\n",
    "    plt.xlabel('False Positive Rate')\n",
    "    plt.show()\n",
    "    \n",
    "    ## Calculating best threshold  # https://stackoverflow.com/questions/28719067/roc-curve-and-cut-off-point-python\n",
    "    best_threshold_test= threshold_test[np.argmax(tpr_test - fpr_test)]\n",
    "    best_threshold_train= threshold_train[np.argmax(tpr_train - fpr_train)]\n",
    "    return roc_auc_test,roc_auc_train,best_threshold_test,best_threshold_train ## simple AUC score"
   ]
  },
  {
   "cell_type": "markdown",
   "metadata": {},
   "source": [
    "> Function which perform hyperparameter tunning"
   ]
  },
  {
   "cell_type": "code",
   "execution_count": 17,
   "metadata": {},
   "outputs": [],
   "source": [
    "from tqdm import tqdm\n",
    "from sklearn.linear_model import LogisticRegression"
   ]
  },
  {
   "cell_type": "code",
   "execution_count": 26,
   "metadata": {},
   "outputs": [],
   "source": [
    "def hyper_parametertunning(x_train_BOW,x_cv_BOW,x_cv,x_train,y_train,y_cv):\n",
    "#     classifier = LogisticRegression() #classifier   \n",
    "    C = [0.00001,0.0001,0.001,0.01,0.1,1,10,100,300,500]\n",
    "    train_AUC = []\n",
    "    cv_AUC = []\n",
    "    for i in tqdm(C):\n",
    "        classifier = LogisticRegression(C=i)\n",
    "        classifier.fit(x_train_BOW,y_train)\n",
    "        \n",
    "        ## Calculating AUC for x_CV\n",
    "        x_cv_BOW_predicted = classifier.predict_proba(x_cv_BOW)[:,1]\n",
    "        x_cv['naive_proba'] = x_cv_BOW_predicted\n",
    "        subgroup = parameters(x_cv)\n",
    "        identity_columns = subgroup\n",
    "        MODEL_NAME = 'naive_proba'\n",
    "        TOXICITY_COLUMN  = 'class'\n",
    "        bias_metrics_df = compute_bias_metrics_for_model(x_cv, identity_columns, MODEL_NAME, TOXICITY_COLUMN)\n",
    "        AUC_CV = get_final_metric(bias_metrics_df, calculate_overall_auc(x_cv, MODEL_NAME))\n",
    "        cv_AUC.append(AUC_CV)\n",
    "        \n",
    "        \n",
    "        ## Calculating AUC for x_train\n",
    "        x_train_BOW_predicted = classifier.predict_proba(x_train_BOW)[:,1]\n",
    "        x_train['naive_proba'] = x_train_BOW_predicted\n",
    "        subgroup = parameters(x_train)\n",
    "        identity_columns = subgroup\n",
    "        MODEL_NAME = 'naive_proba'\n",
    "        TOXICITY_COLUMN  = 'class'\n",
    "        bias_metrics_df = compute_bias_metrics_for_model(x_train, identity_columns, MODEL_NAME, TOXICITY_COLUMN)\n",
    "        AUC_train = get_final_metric(bias_metrics_df, calculate_overall_auc(x_train, MODEL_NAME))\n",
    "        train_AUC.append(AUC_train)\n",
    "        \n",
    "        \n",
    "        \n",
    "        \n",
    "    return train_AUC, cv_AUC ,C"
   ]
  },
  {
   "cell_type": "markdown",
   "metadata": {},
   "source": [
    "> preparing data  Handling Nan Values and Converting_into_boolean "
   ]
  },
  {
   "cell_type": "code",
   "execution_count": 47,
   "metadata": {},
   "outputs": [],
   "source": [
    "x_train = Converting_into_boolean(x_train)\n",
    "x_cv = Converting_into_boolean(x_cv)\n",
    "x_test = Converting_into_boolean(x_test)"
   ]
  },
  {
   "cell_type": "markdown",
   "metadata": {},
   "source": [
    "> Calling hyper_parametertunning function"
   ]
  },
  {
   "cell_type": "code",
   "execution_count": 24,
   "metadata": {},
   "outputs": [],
   "source": [
    "import pandas as pd"
   ]
  },
  {
   "cell_type": "code",
   "execution_count": 59,
   "metadata": {},
   "outputs": [
    {
     "name": "stdout",
     "output_type": "stream",
     "text": [
      "           C  train_AUC    cv_AUC\n",
      "0    0.00001   0.783274  0.780272\n",
      "1    0.00010   0.785029  0.782022\n",
      "2    0.00100   0.792675  0.789474\n",
      "3    0.01000   0.822608  0.819003\n",
      "4    0.10000   0.868826  0.865637\n",
      "5    1.00000   0.882698  0.875887\n",
      "6   10.00000   0.883793  0.874155\n",
      "7  100.00000   0.884101  0.873694\n",
      "8  300.00000   0.883298  0.874688\n",
      "9  500.00000   0.883708  0.873947\n"
     ]
    },
    {
     "data": {
      "image/png": "[encoded data removed]",
      "text/plain": [
       "<Figure size 432x288 with 1 Axes>"
      ]
     },
     "metadata": {},
     "output_type": "display_data"
    }
   ],
   "source": [
    "train_AUC, cv_AUC ,C=hyper_parametertunning(x_train_BOW,x_cv_BOW,x_cv,x_train,y_train,y_cv)\n",
    "data_frame = pd.DataFrame({'C':C,'train_AUC':train_AUC,'cv_AUC':cv_AUC})\n",
    "print(data_frame)\n",
    "plt.plot(C,cv_AUC, label='cv cruve')\n",
    "plt.plot(C,train_AUC ,label='train cruve')\n",
    "plt.xlabel('Hyper-parameter')\n",
    "plt.ylabel('weighted roc_auc_score')\n",
    "plt.title('Hyper-parameter VS roc_auc_score')\n",
    "plt.legend()\n",
    "plt.show()"
   ]
  },
  {
   "cell_type": "markdown",
   "metadata": {},
   "source": [
    "> Applying best hyperparameter to Naive bayes"
   ]
  },
  {
   "cell_type": "code",
   "execution_count": 60,
   "metadata": {},
   "outputs": [
    {
     "name": "stderr",
     "output_type": "stream",
     "text": [
      "C:\\Anaconda3\\lib\\site-packages\\sklearn\\linear_model\\_logistic.py:765: ConvergenceWarning: lbfgs failed to converge (status=1):\n",
      "STOP: TOTAL NO. of ITERATIONS REACHED LIMIT.\n",
      "\n",
      "Increase the number of iterations (max_iter) or scale the data as shown in:\n",
      "    https://scikit-learn.org/stable/modules/preprocessing.html\n",
      "Please also refer to the documentation for alternative solver options:\n",
      "    https://scikit-learn.org/stable/modules/linear_model.html#logistic-regression\n",
      "  extra_warning_msg=_LOGISTIC_SOLVER_CONVERGENCE_MSG)\n"
     ]
    }
   ],
   "source": [
    "## Test data\n",
    "classifier =LogisticRegression(C=1)\n",
    "classifier.fit(x_train_BOW,y_train)\n",
    "x_test_BOW_predicted = classifier.predict_proba(x_test_BOW)[:,1]\n",
    "x_test_BOW_predicted_class = classifier.predict(x_test_BOW)\n",
    "x_train_BOW_predicted = classifier.predict_proba(x_train_BOW)[:,1]\n",
    "x_test['naive_proba'] = x_test_BOW_predicted\n",
    "subgroup = parameters(x_test)\n",
    "identity_columns = subgroup\n",
    "MODEL_NAME = 'naive_proba'\n",
    "TOXICITY_COLUMN  = 'class'\n",
    "bias_metrics_df = compute_bias_metrics_for_model(x_test, identity_columns, MODEL_NAME, TOXICITY_COLUMN)\n",
    "AUC_test = get_final_metric(bias_metrics_df, calculate_overall_auc(x_test, MODEL_NAME))"
   ]
  },
  {
   "cell_type": "code",
   "execution_count": 61,
   "metadata": {},
   "outputs": [
    {
     "data": {
      "image/png": "[encoded data removed]",
      "text/plain": [
       "<Figure size 432x288 with 1 Axes>"
      ]
     },
     "metadata": {},
     "output_type": "display_data"
    }
   ],
   "source": [
    "roc_auc_test,roc_auc_train,best_threshold_test,best_threshold_train = Plot_AUC_ROC_curve(y_test,y_train,x_test_BOW_predicted,x_train_BOW_predicted)"
   ]
  },
  {
   "cell_type": "code",
   "execution_count": 62,
   "metadata": {},
   "outputs": [
    {
     "name": "stdout",
     "output_type": "stream",
     "text": [
      "roc_auc_test :  0.91777588915981\n",
      "roc_auc_train :  0.9257281198508289\n",
      "best_threshold_test :  0.07234636229555912\n",
      "best_threshold_train :  0.07475144435277928\n"
     ]
    }
   ],
   "source": [
    "print('roc_auc_test : ',roc_auc_test)\n",
    "print('roc_auc_train : ',roc_auc_train)\n",
    "print('best_threshold_test : ',best_threshold_test)\n",
    "print('best_threshold_train : ',best_threshold_train)"
   ]
  },
  {
   "cell_type": "code",
   "execution_count": 63,
   "metadata": {},
   "outputs": [
    {
     "data": {
      "text/plain": [
       "0.8711512701958214"
      ]
     },
     "execution_count": 63,
     "metadata": {},
     "output_type": "execute_result"
    }
   ],
   "source": [
    "AUC_test"
   ]
  },
  {
   "cell_type": "markdown",
   "metadata": {},
   "source": [
    "> As we can see the weighted AUC matric mitigate the effect of bias word.\n",
    "* Simple AUC = 0.9177\n",
    "* weighted  AUC = 0.8711\n",
    "* the best threshold we got approx is 0.074"
   ]
  },
  {
   "cell_type": "markdown",
   "metadata": {},
   "source": [
    "> Confusion Matrix"
   ]
  },
  {
   "cell_type": "code",
   "execution_count": 64,
   "metadata": {
    "scrolled": false
   },
   "outputs": [
    {
     "name": "stdout",
     "output_type": "stream",
     "text": [
      "[[245519   2533]\n",
      " [ 13414   8221]]\n"
     ]
    },
    {
     "data": {
      "image/png": "[encoded data removed]",
      "text/plain": [
       "<Figure size 432x288 with 2 Axes>"
      ]
     },
     "metadata": {},
     "output_type": "display_data"
    }
   ],
   "source": [
    "confusion__matrix(y_test,x_test_BOW_predicted_class)"
   ]
  },
  {
   "cell_type": "markdown",
   "metadata": {},
   "source": [
    "# 4. Logistic regression model with TFIDF"
   ]
  },
  {
   "cell_type": "markdown",
   "metadata": {},
   "source": [
    "### Loding Preprocessed data  for ML models"
   ]
  },
  {
   "cell_type": "code",
   "execution_count": 65,
   "metadata": {},
   "outputs": [],
   "source": [
    "import pickle\n",
    "  \n",
    "# Open the file in binary mode\n",
    "with open('data_TFIDF.pkl', 'rb') as file:\n",
    "      \n",
    "    # Call load method to deserialze\n",
    "    x_train_TFIDF , x_cv_TFIDF , x_test_TFIDF, y_train, y_cv, y_test,Test_Final_pre_text_data_ML = pickle.load(file)\n",
    " "
   ]
  },
  {
   "cell_type": "code",
   "execution_count": 66,
   "metadata": {},
   "outputs": [],
   "source": [
    "# https://scikit-learn.org/stable/modules/generated/sklearn.preprocessing.MaxAbsScaler.html\n",
    "from sklearn.preprocessing import MaxAbsScaler\n",
    "\n",
    "transformer = MaxAbsScaler().fit(x_train_TFIDF)\n",
    "x_train_TFIDF = transformer.transform(x_train_TFIDF)\n",
    "\n",
    "x_cv_TFIDF = transformer.transform(x_cv_TFIDF)\n",
    "\n",
    "x_test_TFIDF = transformer.transform(x_test_TFIDF)\n",
    "\n"
   ]
  },
  {
   "cell_type": "markdown",
   "metadata": {},
   "source": [
    "### Loding data which contain all Subgroup identity for ML models"
   ]
  },
  {
   "cell_type": "code",
   "execution_count": 67,
   "metadata": {},
   "outputs": [],
   "source": [
    "import pickle\n",
    "  \n",
    "# Open the file in binary mode\n",
    "with open('data_train_test_cv_csv_all_columns.pkl', 'rb') as file:\n",
    "      \n",
    "    # Call load method to deserialze\n",
    "    x_train, x_cv , x_test, y_train, y_cv, y_test = pickle.load(file)"
   ]
  },
  {
   "cell_type": "markdown",
   "metadata": {},
   "source": [
    "> ## Hyperparameter Tunning."
   ]
  },
  {
   "cell_type": "markdown",
   "metadata": {},
   "source": [
    "> Function which calculate bias AUC"
   ]
  },
  {
   "cell_type": "code",
   "execution_count": 68,
   "metadata": {},
   "outputs": [],
   "source": [
    "SUBGROUP_AUC = 'subgroup_auc'\n",
    "BPSN_AUC = 'bpsn_auc'  # stands for background positive, subgroup negative\n",
    "BNSP_AUC = 'bnsp_auc'  # stands for background negative, subgroup positive\n",
    "\n",
    "def compute_auc(y_true, y_pred):\n",
    "    try:\n",
    "        return metrics.roc_auc_score(y_true, y_pred)\n",
    "    except ValueError:\n",
    "        return np.nan\n",
    "\n",
    "def compute_subgroup_auc(df, subgroup, label, model_name):\n",
    "    subgroup_examples = df[df[subgroup]==1]\n",
    "    return compute_auc(subgroup_examples[label], subgroup_examples[model_name])\n",
    "\n",
    "def compute_bpsn_auc(df, subgroup, label, model_name):\n",
    "    \"\"\"Computes the AUC of the within-subgroup negative examples and the background positive examples.\"\"\"\n",
    "    subgroup_negative_examples = df[(df[subgroup]==1) & (df[label]=='non-toxic')]\n",
    "    non_subgroup_positive_examples = df[(df[subgroup]==0) & (df[label]=='toxic')]\n",
    "    examples = subgroup_negative_examples.append(non_subgroup_positive_examples)\n",
    "    return compute_auc(examples[label], examples[model_name])\n",
    "\n",
    "def compute_bnsp_auc(df, subgroup, label, model_name):\n",
    "    \"\"\"Computes the AUC of the within-subgroup positive examples and the background negative examples.\"\"\"\n",
    "    subgroup_positive_examples = df[(df[subgroup]==1)&(df[label]=='toxic')]\n",
    "    non_subgroup_negative_examples = df[(df[subgroup]==0) & (df[label]=='non-toxic')]\n",
    "    examples = subgroup_positive_examples.append(non_subgroup_negative_examples)\n",
    "    return compute_auc(examples[label], examples[model_name])\n",
    "\n",
    "def compute_bias_metrics_for_model(dataset,\n",
    "                                   subgroups,\n",
    "                                   model,\n",
    "                                   label_col,\n",
    "                                   include_asegs=False):\n",
    "    \"\"\"Computes per-subgroup metrics for all subgroups and one model.\"\"\"\n",
    "    records = []\n",
    "    for subgroup in subgroups:\n",
    "        record = {\n",
    "            'subgroup': subgroup,\n",
    "            'subgroup_size': dataset[subgroup].sum()\n",
    "        }\n",
    "        record[SUBGROUP_AUC] = compute_subgroup_auc(dataset, subgroup, label_col, model)\n",
    "        record[BPSN_AUC] = compute_bpsn_auc(dataset, subgroup, label_col, model)\n",
    "        record[BNSP_AUC] = compute_bnsp_auc(dataset, subgroup, label_col, model)\n",
    "        records.append(record)\n",
    "    return pd.DataFrame(records).sort_values('subgroup_auc', ascending=True)\n",
    "\n",
    "# identity_columns = subgroup\n",
    "# MODEL_NAME = 'naive_proba'\n",
    "# TOXICITY_COLUMN  = 'class'\n",
    "# bias_metrics_df = compute_bias_metrics_for_model(x_cv_1, identity_columns, MODEL_NAME, TOXICITY_COLUMN)\n",
    "# bias_metrics_df\n"
   ]
  },
  {
   "cell_type": "markdown",
   "metadata": {},
   "source": [
    "> Function which caluclate final_metric (weighted AUC)"
   ]
  },
  {
   "cell_type": "code",
   "execution_count": 69,
   "metadata": {},
   "outputs": [],
   "source": [
    "TOXICITY_COLUMN = 'class'\n",
    "TEXT_COLUMN = 'comment_text'\n",
    "MODEL_NAME = 'naive_proba'\n",
    "def calculate_overall_auc(df, model_name):\n",
    "    true_labels = df[TOXICITY_COLUMN]\n",
    "    predicted_labels = df[model_name]\n",
    "    return metrics.roc_auc_score(true_labels, predicted_labels)\n",
    "\n",
    "def power_mean(series, p):\n",
    "    total = sum(np.power(series, p))\n",
    "    return np.power(total / len(series), 1 / p)\n",
    "\n",
    "def get_final_metric(bias_df, overall_auc, POWER=-5, OVERALL_MODEL_WEIGHT=0.25):\n",
    "    bias_score = np.average([\n",
    "        power_mean(bias_df[SUBGROUP_AUC], POWER),\n",
    "        power_mean(bias_df[BPSN_AUC], POWER),\n",
    "        power_mean(bias_df[BNSP_AUC], POWER)\n",
    "    ])\n",
    "    return (OVERALL_MODEL_WEIGHT * overall_auc) + ((1 - OVERALL_MODEL_WEIGHT) * bias_score)\n",
    "    \n",
    "# get_final_metric(bias_metrics_df, calculate_overall_auc(x_cv_1, MODEL_NAME))\n"
   ]
  },
  {
   "cell_type": "markdown",
   "metadata": {},
   "source": [
    "> function only return that identity/subgroups which occurs"
   ]
  },
  {
   "cell_type": "code",
   "execution_count": 70,
   "metadata": {},
   "outputs": [],
   "source": [
    "# this function only return that identity/subgroups which occurs\n",
    "def parameters(x_cv):\n",
    "    x_cv = x_cv[['asian', 'atheist', 'bisexual',\n",
    "       'black', 'buddhist', 'christian', 'female', 'heterosexual', 'hindu',\n",
    "       'homosexual_gay_or_lesbian', 'intellectual_or_learning_disability',\n",
    "       'jewish', 'latino', 'male', 'muslim', 'other_disability',\n",
    "       'other_gender', 'other_race_or_ethnicity', 'other_religion',\n",
    "       'other_sexual_orientation', 'physical_disability',\n",
    "       'psychiatric_or_mental_illness', 'transgender', 'white','class']]\n",
    "    list_ = x_cv.columns[:24]  # droping class colummn\n",
    "    subgroup = []\n",
    "    for i in list_:\n",
    "        if x_cv[x_cv[i]==1][i].count() >500:\n",
    "#             print(i,':',x_cv[x_cv[i] ==1][i].count())\n",
    "            subgroup.append(i)\n",
    "    return subgroup"
   ]
  },
  {
   "cell_type": "markdown",
   "metadata": {},
   "source": [
    "> Function to calculate Confusion matrix"
   ]
  },
  {
   "cell_type": "code",
   "execution_count": 71,
   "metadata": {},
   "outputs": [],
   "source": [
    "## making confusion matrix\n",
    "# https://medium.com/@dtuk81/confusion-matrix-visualization-fc31e3f30fea\n",
    "from sklearn.metrics import confusion_matrix\n",
    "def confusion__matrix(y_test,Y_predicted):\n",
    "    cm=confusion_matrix(y_test,Y_predicted)\n",
    "    print(cm)\n",
    "    ax= plt.subplot();\n",
    "    cm_= cm.reshape(4) # count \n",
    "    percentage = ((cm_/cm_.sum()).round(4))*100 # in percentage\n",
    "    group_names_ = ['True Neg ','False Pos','False Neg','True Pos']\n",
    "    group_names = []\n",
    "    for i in range(4):\n",
    "        str_ = group_names_[i] + '\\n'+ str(cm_[i]) + '\\n'+ str(percentage[i])+\"%\"\n",
    "        group_names.append(str_)\n",
    "#     group_names = ['True Neg ','False Pos','False Neg','True Pos']\n",
    "    group_names = np.array(group_names).reshape(2,2)\n",
    "    sns.heatmap(cm, annot=group_names,fmt=\"\",cmap='Blues')\n",
    "    ax.set_xlabel('Predicted labels');\n",
    "    ax.set_ylabel('True labels');\n",
    "    ax.set_ylim(2.0, 0)\n",
    "    ax.set_title('Confusion Matrix');\n",
    "    ax.xaxis.set_ticklabels(['0','1']);\n",
    "    ax.yaxis.set_ticklabels(['0','1']);"
   ]
  },
  {
   "cell_type": "markdown",
   "metadata": {},
   "source": [
    "> Function to plot AUC_ROC curve "
   ]
  },
  {
   "cell_type": "code",
   "execution_count": 72,
   "metadata": {},
   "outputs": [],
   "source": [
    "def Plot_AUC_ROC_curve(y_test,y_train,x_test_BOW_predicted,x_train_BOW_predicted):\n",
    "    y_test_= [0 if i=='non-toxic' else 1 for i in y_test ]\n",
    "    y_train_= [0 if i=='non-toxic' else 1 for i in y_train ]\n",
    "    # x_test_BOW_predicted_class_= [0 if i=='non-toxic' else 1 for i in x_test_BOW_predicted_class ]\n",
    "\n",
    "    fpr_test, tpr_test, threshold_test = roc_curve(y_test_, x_test_BOW_predicted,pos_label=1)\n",
    "    fpr_train, tpr_train, threshold_train = roc_curve(y_train_, x_train_BOW_predicted,pos_label=1)\n",
    "\n",
    "    \n",
    "    roc_auc_test = roc_auc_score(y_test,x_test_BOW_predicted)\n",
    "    roc_auc_train = roc_auc_score(y_train,x_train_BOW_predicted)\n",
    "\n",
    "    plt.title('Receiver Operating Characteristic')\n",
    "\n",
    "    plt.plot(fpr_test, tpr_test, 'r', label = 'Test AUC = %0.2f' % roc_auc_test)\n",
    "    plt.plot(fpr_train, tpr_train, 'b', label = 'Train AUC = %0.2f' % roc_auc_train)\n",
    "\n",
    "    plt.legend(loc = 'lower right')\n",
    "    plt.plot([0, 1], [0, 1],'g--')\n",
    "    plt.xlim([0, 1])\n",
    "    plt.ylim([0, 1])\n",
    "    plt.ylabel('True Positive Rate')\n",
    "    plt.xlabel('False Positive Rate')\n",
    "    plt.show()\n",
    "    \n",
    "    ## Calculating best threshold  # https://stackoverflow.com/questions/28719067/roc-curve-and-cut-off-point-python\n",
    "    best_threshold_test= threshold_test[np.argmax(tpr_test - fpr_test)]\n",
    "    best_threshold_train= threshold_train[np.argmax(tpr_train - fpr_train)]\n",
    "    return roc_auc_test,roc_auc_train,best_threshold_test,best_threshold_train ## simple AUC score"
   ]
  },
  {
   "cell_type": "markdown",
   "metadata": {},
   "source": [
    "> Function which perform hyperparameter tunning"
   ]
  },
  {
   "cell_type": "code",
   "execution_count": 73,
   "metadata": {},
   "outputs": [],
   "source": [
    "from tqdm import tqdm"
   ]
  },
  {
   "cell_type": "code",
   "execution_count": 74,
   "metadata": {},
   "outputs": [],
   "source": [
    "def hyper_parametertunning(x_train_TFIDF,x_cv_TFIDF,x_cv,x_train,y_train,y_cv):\n",
    "#     classifier = LogisticRegression() #classifier   \n",
    "    C = [0.00001,0.0001,0.001,0.01,0.1,1,10,100,300,500]\n",
    "    train_AUC = []\n",
    "    cv_AUC = []\n",
    "    for i in tqdm(C):\n",
    "        classifier = LogisticRegression(C=i)\n",
    "        classifier.fit(x_train_TFIDF,y_train)\n",
    "        \n",
    "        ## Calculating AUC for x_CV\n",
    "        x_cv_TFIDF_predicted = classifier.predict_proba(x_cv_TFIDF)[:,1]\n",
    "        x_cv['naive_proba'] = x_cv_TFIDF_predicted\n",
    "        subgroup = parameters(x_cv)\n",
    "        identity_columns = subgroup\n",
    "        MODEL_NAME = 'naive_proba'\n",
    "        TOXICITY_COLUMN  = 'class'\n",
    "        bias_metrics_df = compute_bias_metrics_for_model(x_cv, identity_columns, MODEL_NAME, TOXICITY_COLUMN)\n",
    "        AUC_CV = get_final_metric(bias_metrics_df, calculate_overall_auc(x_cv, MODEL_NAME))\n",
    "        cv_AUC.append(AUC_CV)\n",
    "        \n",
    "        \n",
    "        ## Calculating AUC for x_train\n",
    "        x_train_TFIDF_predicted = classifier.predict_proba(x_train_TFIDF)[:,1]\n",
    "        x_train['naive_proba'] = x_train_TFIDF_predicted\n",
    "        subgroup = parameters(x_train)\n",
    "        identity_columns = subgroup\n",
    "        MODEL_NAME = 'naive_proba'\n",
    "        TOXICITY_COLUMN  = 'class'\n",
    "        bias_metrics_df = compute_bias_metrics_for_model(x_train, identity_columns, MODEL_NAME, TOXICITY_COLUMN)\n",
    "        AUC_train = get_final_metric(bias_metrics_df, calculate_overall_auc(x_train, MODEL_NAME))\n",
    "        train_AUC.append(AUC_train)\n",
    "        \n",
    "        \n",
    "        \n",
    "        \n",
    "    return train_AUC, cv_AUC ,C"
   ]
  },
  {
   "cell_type": "markdown",
   "metadata": {},
   "source": [
    "> preparing data  Handling Nan Values and Converting_into_boolean "
   ]
  },
  {
   "cell_type": "code",
   "execution_count": 75,
   "metadata": {},
   "outputs": [],
   "source": [
    "x_train = Converting_into_boolean(x_train)\n",
    "x_cv = Converting_into_boolean(x_cv)\n",
    "x_test = Converting_into_boolean(x_test)"
   ]
  },
  {
   "cell_type": "code",
   "execution_count": 77,
   "metadata": {},
   "outputs": [
    {
     "name": "stdout",
     "output_type": "stream",
     "text": [
      "           C  train_AUC    cv_AUC\n",
      "0    0.00001   0.792296  0.786861\n",
      "1    0.00010   0.793338  0.787870\n",
      "2    0.00100   0.802855  0.797237\n",
      "3    0.01000   0.846816  0.841030\n",
      "4    0.10000   0.882374  0.876519\n",
      "5    1.00000   0.892452  0.883122\n",
      "6   10.00000   0.892923  0.882322\n",
      "7  100.00000   0.893539  0.882162\n",
      "8  300.00000   0.893775  0.881281\n",
      "9  500.00000   0.893918  0.882015\n"
     ]
    },
    {
     "data": {
      "image/png": "[encoded data removed]",
      "text/plain": [
       "<Figure size 432x288 with 1 Axes>"
      ]
     },
     "metadata": {},
     "output_type": "display_data"
    }
   ],
   "source": [
    "train_AUC, cv_AUC ,C=hyper_parametertunning(x_train_TFIDF,x_cv_TFIDF,x_cv,x_train,y_train,y_cv)\n",
    "data_frame = pd.DataFrame({'C':C,'train_AUC':train_AUC,'cv_AUC':cv_AUC})\n",
    "print(data_frame)\n",
    "plt.plot(C,cv_AUC, label='cv cruve')\n",
    "plt.plot(C,train_AUC ,label='train cruve')\n",
    "plt.xlabel('Hyper-parameter')\n",
    "plt.ylabel('weighted roc_auc_score')\n",
    "plt.title('Hyper-parameter VS roc_auc_score')\n",
    "plt.legend()\n",
    "plt.show()"
   ]
  },
  {
   "cell_type": "markdown",
   "metadata": {},
   "source": [
    "> Applying best hyperparameter to Naive bayes"
   ]
  },
  {
   "cell_type": "code",
   "execution_count": 78,
   "metadata": {},
   "outputs": [
    {
     "name": "stderr",
     "output_type": "stream",
     "text": [
      "C:\\Anaconda3\\lib\\site-packages\\sklearn\\linear_model\\_logistic.py:765: ConvergenceWarning: lbfgs failed to converge (status=1):\n",
      "STOP: TOTAL NO. of ITERATIONS REACHED LIMIT.\n",
      "\n",
      "Increase the number of iterations (max_iter) or scale the data as shown in:\n",
      "    https://scikit-learn.org/stable/modules/preprocessing.html\n",
      "Please also refer to the documentation for alternative solver options:\n",
      "    https://scikit-learn.org/stable/modules/linear_model.html#logistic-regression\n",
      "  extra_warning_msg=_LOGISTIC_SOLVER_CONVERGENCE_MSG)\n"
     ]
    }
   ],
   "source": [
    "## Test data\n",
    "classifier = LogisticRegression(C=1)\n",
    "classifier.fit(x_train_TFIDF,y_train)\n",
    "x_test_TFIDF_predicted = classifier.predict_proba(x_test_TFIDF)[:,1]\n",
    "x_test_TFIDF_predicted_class = classifier.predict(x_test_TFIDF)\n",
    "x_train_TFIDF_predicted = classifier.predict_proba(x_train_TFIDF)[:,1]\n",
    "x_test['naive_proba'] = x_test_TFIDF_predicted\n",
    "subgroup = parameters(x_test)\n",
    "identity_columns = subgroup\n",
    "MODEL_NAME = 'naive_proba'\n",
    "TOXICITY_COLUMN  = 'class'\n",
    "bias_metrics_df = compute_bias_metrics_for_model(x_test, identity_columns, MODEL_NAME, TOXICITY_COLUMN)\n",
    "AUC_test = get_final_metric(bias_metrics_df, calculate_overall_auc(x_test, MODEL_NAME))"
   ]
  },
  {
   "cell_type": "code",
   "execution_count": 79,
   "metadata": {},
   "outputs": [
    {
     "data": {
      "image/png": "[encoded data removed]",
      "text/plain": [
       "<Figure size 432x288 with 1 Axes>"
      ]
     },
     "metadata": {},
     "output_type": "display_data"
    }
   ],
   "source": [
    "roc_auc_test,roc_auc_train,best_threshold_test,best_threshold_train = Plot_AUC_ROC_curve(y_test,y_train,x_test_TFIDF_predicted,x_train_TFIDF_predicted)"
   ]
  },
  {
   "cell_type": "code",
   "execution_count": 80,
   "metadata": {},
   "outputs": [
    {
     "name": "stdout",
     "output_type": "stream",
     "text": [
      "roc_auc_test :  0.9345803159182375\n",
      "roc_auc_train :  0.9412647185164973\n",
      "best_threshold_test :  0.06971346055572497\n",
      "best_threshold_train :  0.0666739889637612\n"
     ]
    }
   ],
   "source": [
    "print('roc_auc_test : ',roc_auc_test)\n",
    "print('roc_auc_train : ',roc_auc_train)\n",
    "print('best_threshold_test : ',best_threshold_test)\n",
    "print('best_threshold_train : ',best_threshold_train)"
   ]
  },
  {
   "cell_type": "code",
   "execution_count": 81,
   "metadata": {},
   "outputs": [
    {
     "name": "stdout",
     "output_type": "stream",
     "text": [
      " weighted roc_auc_test :  0.8831785558244345\n"
     ]
    }
   ],
   "source": [
    "print(' weighted roc_auc_test : ',AUC_test)"
   ]
  },
  {
   "cell_type": "markdown",
   "metadata": {},
   "source": [
    "> As we can see the weighted AUC matric mitigate the effect of bias word.\n",
    "* Simple AUC = 0.9345\n",
    "* weighted  AUC =  0.8831\n",
    "* the best threshold we got approx is 0.06"
   ]
  },
  {
   "cell_type": "markdown",
   "metadata": {},
   "source": [
    "> Confusion Matrix"
   ]
  },
  {
   "cell_type": "code",
   "execution_count": null,
   "metadata": {},
   "outputs": [],
   "source": [
    "## making confusion matrix\n",
    "# https://medium.com/@dtuk81/confusion-matrix-visualization-fc31e3f30fea\n",
    "from sklearn.metrics import confusion_matrix\n",
    "def confusion__matrix(y_test,Y_predicted):\n",
    "    cm=confusion_matrix(y_test,Y_predicted)\n",
    "    print(cm)\n",
    "    ax= plt.subplot();\n",
    "    cm_= cm.reshape(4) # count \n",
    "    percentage = ((cm_/cm_.sum()).round(4))*100 # in percentage\n",
    "    group_names_ = ['True Neg ','False Pos','False Neg','True Pos']\n",
    "    group_names = []\n",
    "    for i in range(4):\n",
    "        str_ = group_names_[i] + '\\n'+ str(cm_[i]) + '\\n'+ str(percentage[i])+\"%\"\n",
    "        group_names.append(str_)\n",
    "#     group_names = ['True Neg ','False Pos','False Neg','True Pos']\n",
    "    group_names = np.array(group_names).reshape(2,2)\n",
    "    sns.heatmap(cm, annot=group_names,fmt=\"\",cmap='Blues')\n",
    "    ax.set_xlabel('Predicted labels');\n",
    "    ax.set_ylabel('True labels');\n",
    "    ax.set_ylim(2.0, 0)\n",
    "    ax.set_title('Confusion Matrix');\n",
    "    ax.xaxis.set_ticklabels(['0','1']);\n",
    "    ax.yaxis.set_ticklabels(['0','1']);"
   ]
  },
  {
   "cell_type": "code",
   "execution_count": 82,
   "metadata": {
    "scrolled": false
   },
   "outputs": [
    {
     "name": "stdout",
     "output_type": "stream",
     "text": [
      "[[245120   2932]\n",
      " [ 11989   9646]]\n"
     ]
    },
    {
     "data": {
      "image/png": "[encoded data removed]",
      "text/plain": [
       "<Figure size 432x288 with 2 Axes>"
      ]
     },
     "metadata": {},
     "output_type": "display_data"
    }
   ],
   "source": [
    "confusion__matrix(y_test,x_test_TFIDF_predicted_class)"
   ]
  },
  {
   "cell_type": "code",
   "execution_count": 90,
   "metadata": {},
   "outputs": [
    {
     "name": "stdout",
     "output_type": "stream",
     "text": [
      "+-------+---------------------+------------+------------+--------------+----------------+-------+--------+\n",
      "| index |        Model        | vectoriser | Simpel AUC | Weighted AUC | best threshold |   FP  |   FN   |\n",
      "+-------+---------------------+------------+------------+--------------+----------------+-------+--------+\n",
      "|   1   |     Naive Bayes     |    BOW     |   0.8637   |    0.7979    |      0.17      | 6.67% | 3.29%  |\n",
      "|   2   |     Naive Bayes     |   TFIDF    |  0.88223   |    0.8420    |      0.09      | 0.03% | 7.399% |\n",
      "|   3   | Logistic regression |    BOW     |   0.9177   |    0.8711    |     0.074      | 0.94% | 4.97%  |\n",
      "|   4   | Logistic regression |   TFIDF    |   0.9345   |    0.8831    |      0.06      | 1.09% | 4.45%  |\n",
      "+-------+---------------------+------------+------------+--------------+----------------+-------+--------+\n"
     ]
    }
   ],
   "source": [
    "from prettytable import PrettyTable\n",
    "  \n",
    "# Specify the Column Names while initializing the Table\n",
    "myTable = PrettyTable(['index',\"Model \", \"vectoriser\", \"Simpel AUC\",'Weighted AUC','best threshold','FP','FN'])\n",
    "  \n",
    "# Add rows\n",
    "\n",
    "# myTable.add_row([\"1. Adding Date based Features \", \"    \", \"    \"])\n",
    "myTable.add_row([\"1 \", \"Naive Bayes\",'BOW' ,\"0.8637\",'0.7979','0.17','6.67%','3.29%'])\n",
    "myTable.add_row([\"2 \", \"Naive Bayes\",'TFIDF', \"0.88223\",'0.8420','0.09','0.03%','7.399%'])\n",
    "myTable.add_row([\"3 \", \"Logistic regression\",'BOW' ,\"0.9177\",'0.8711','0.074','0.94%','4.97%'])\n",
    "myTable.add_row([\"4 \", \"Logistic regression\",'TFIDF' ,\"0.9345\",'0.8831','0.06','1.09%','4.45%'])\n",
    "# myTable.add_row([\"-------\", \"-------\", \"-------\"])\n",
    "\n",
    "\n",
    "\n",
    "print(myTable)"
   ]
  },
  {
   "cell_type": "markdown",
   "metadata": {},
   "source": [
    "> ## Observation :\n",
    "* with  Naive Bayes with TFIDF we got lowest FP values \n",
    "* we can say the rather than classify the class labels based on threshold 0.5 we should  classify classes based on 0.1, if probability is < (1 - 0.1) classify as Non toxic other wise toxic.\n",
    "https://towardsdatascience.com/calculating-and-setting-thresholds-to-optimise-logistic-regression-performance-c77e6d112d7e\n",
    "* Other help full refrences :\n",
    "    * https://www.analyticsvidhya.com/blog/2020/06/auc-roc-curve-machine-learning/\n",
    "    * https://www.analyticsvidhya.com/blog/2020/04/confusion-matrix-machine-learning/?utm_source=blog&utm_medium=auc-roc-curve-machine-learning"
   ]
  },
  {
   "cell_type": "code",
   "execution_count": null,
   "metadata": {},
   "outputs": [],
   "source": []
  }
 ],
 "metadata": {
  "kernelspec": {
   "display_name": "Python 3",
   "language": "python",
   "name": "python3"
  },
  "language_info": {
   "codemirror_mode": {
    "name": "ipython",
    "version": 3
   },
   "file_extension": ".py",
   "mimetype": "text/x-python",
   "name": "python",
   "nbconvert_exporter": "python",
   "pygments_lexer": "ipython3",
   "version": "3.6.5"
  }
 },
 "nbformat": 4,
 "nbformat_minor": 2
}
